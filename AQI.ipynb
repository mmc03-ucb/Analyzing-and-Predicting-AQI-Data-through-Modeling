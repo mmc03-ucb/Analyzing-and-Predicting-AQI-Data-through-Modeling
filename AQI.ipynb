{
 "cells": [
  {
   "cell_type": "code",
   "execution_count": 1,
   "id": "497b6978",
   "metadata": {
    "deletable": false,
    "editable": false
   },
   "outputs": [],
   "source": [
    "# Initialize Otter\n",
    "import otter\n",
    "grader = otter.Notebook(\"AQI.ipynb\")"
   ]
  },
  {
   "attachments": {},
   "cell_type": "markdown",
   "id": "3c611a37",
   "metadata": {},
   "source": [
    "## Analyzing and Predicting AQI Data through Modeling\n"
   ]
  },
  {
   "attachments": {},
   "cell_type": "markdown",
   "id": "299ff619",
   "metadata": {},
   "source": [
    "\n",
    "\n",
    "In this final project, we will investigate AQI data for the year 2020 from **USA EPA** data. All the data used for this project can be accessed from the [EPA Website](https://aqs.epa.gov/aqsweb/airdata/download_files.html), which we will pull from directly in this notebook. This dataset contains geographical and time-series data on various factors that contribute to AQI from all government sites. The main goal at the end for you will be to understand how AQI varies both geographically and over time, and use your analysis (as well as other data that you can find) to be predict AQI at a certain point in time for various locations in California.\n",
    "\n",
    "Through this final project, you will demonstrate your experience with:\n",
    "* EDA and merging on location using Pandas\n",
    "* Unsupervised and supervised learning techniques\n",
    "* Visualization and interpolation\n",
    "\n",
    "This is **part 1** of the project, which includes the data cleaning, guided EDA and open-ended EDA components of the project. This will help you for part 2, where you will be completing the modeling component. "
   ]
  },
  {
   "cell_type": "code",
   "execution_count": 2,
   "id": "5e624bff",
   "metadata": {},
   "outputs": [],
   "source": [
    "import pandas as pd\n",
    "import numpy as np\n",
    "import seaborn as sns\n",
    "import matplotlib.pyplot as plt\n",
    "import re\n",
    "import geopandas as gpd\n",
    "\n",
    "import os\n",
    "import requests, zipfile, io\n",
    "\n",
    "import warnings\n",
    "warnings.filterwarnings('ignore')"
   ]
  },
  {
   "attachments": {},
   "cell_type": "markdown",
   "id": "105f2ec9",
   "metadata": {},
   "source": [
    "<br/><br/>\n",
    "\n",
    "---\n",
    "## Section 1: Data Cleaning\n",
    "\n",
    "As mentioned, we will be using the **US EPA** data from the EPA website. Below is a dataframe of the files we will be using for the project. The following two cells will download the data and put it into a dictionary called `epa_data`."
   ]
  },
  {
   "cell_type": "code",
   "execution_count": 3,
   "id": "9d7b31bb-b477-4a55-a080-d4c301d61dfb",
   "metadata": {},
   "outputs": [
    {
     "data": {
      "text/html": [
       "<div>\n",
       "<style scoped>\n",
       "    .dataframe tbody tr th:only-of-type {\n",
       "        vertical-align: middle;\n",
       "    }\n",
       "\n",
       "    .dataframe tbody tr th {\n",
       "        vertical-align: top;\n",
       "    }\n",
       "\n",
       "    .dataframe thead th {\n",
       "        text-align: right;\n",
       "    }\n",
       "</style>\n",
       "<table border=\"1\" class=\"dataframe\">\n",
       "  <thead>\n",
       "    <tr style=\"text-align: right;\">\n",
       "      <th></th>\n",
       "      <th>name</th>\n",
       "      <th>epa_filename</th>\n",
       "    </tr>\n",
       "  </thead>\n",
       "  <tbody>\n",
       "    <tr>\n",
       "      <th>0</th>\n",
       "      <td>annual_county_aqi</td>\n",
       "      <td>annual_aqi_by_county_2020</td>\n",
       "    </tr>\n",
       "    <tr>\n",
       "      <th>1</th>\n",
       "      <td>daily_county_aqi</td>\n",
       "      <td>daily_aqi_by_county_2020</td>\n",
       "    </tr>\n",
       "    <tr>\n",
       "      <th>2</th>\n",
       "      <td>daily_ozone</td>\n",
       "      <td>daily_44201_2020</td>\n",
       "    </tr>\n",
       "    <tr>\n",
       "      <th>3</th>\n",
       "      <td>daily_so2</td>\n",
       "      <td>daily_42401_2020</td>\n",
       "    </tr>\n",
       "    <tr>\n",
       "      <th>4</th>\n",
       "      <td>daily_co</td>\n",
       "      <td>daily_42101_2020</td>\n",
       "    </tr>\n",
       "    <tr>\n",
       "      <th>5</th>\n",
       "      <td>daily_no2</td>\n",
       "      <td>daily_42602_2020</td>\n",
       "    </tr>\n",
       "    <tr>\n",
       "      <th>6</th>\n",
       "      <td>daily_temp</td>\n",
       "      <td>daily_WIND_2020</td>\n",
       "    </tr>\n",
       "    <tr>\n",
       "      <th>7</th>\n",
       "      <td>daily_wind</td>\n",
       "      <td>daily_TEMP_2020</td>\n",
       "    </tr>\n",
       "    <tr>\n",
       "      <th>8</th>\n",
       "      <td>aqs_sites</td>\n",
       "      <td>aqs_sites</td>\n",
       "    </tr>\n",
       "  </tbody>\n",
       "</table>\n",
       "</div>"
      ],
      "text/plain": [
       "                name               epa_filename\n",
       "0  annual_county_aqi  annual_aqi_by_county_2020\n",
       "1   daily_county_aqi   daily_aqi_by_county_2020\n",
       "2        daily_ozone           daily_44201_2020\n",
       "3          daily_so2           daily_42401_2020\n",
       "4           daily_co           daily_42101_2020\n",
       "5          daily_no2           daily_42602_2020\n",
       "6         daily_temp            daily_WIND_2020\n",
       "7         daily_wind            daily_TEMP_2020\n",
       "8          aqs_sites                  aqs_sites"
      ]
     },
     "execution_count": 3,
     "metadata": {},
     "output_type": "execute_result"
    }
   ],
   "source": [
    "epa_weburl = \"https://web.archive.org/web/20211118232504/https://aqs.epa.gov/aqsweb/airdata/\" #updated link\n",
    "epa_filenames = pd.read_csv('data/epa_filenames.csv')\n",
    "epa_filenames"
   ]
  },
  {
   "attachments": {},
   "cell_type": "markdown",
   "id": "37d5a045",
   "metadata": {},
   "source": [
    "Below is code that we used to extract the code from the AQI website, which we encourage you to understand! This will pull directly from the website urls and put it into your `data/` folder. "
   ]
  },
  {
   "cell_type": "code",
   "execution_count": 4,
   "id": "45792402",
   "metadata": {},
   "outputs": [],
   "source": [
    "epa_data = {}\n",
    "for name, filename in zip(epa_filenames['name'], epa_filenames['epa_filename']):\n",
    "    path_name = 'data/{}'.format(name)\n",
    "    if not os.path.isdir(path_name): \n",
    "        data_url = '{}{}.zip'.format(epa_weburl, filename)\n",
    "        req = requests.get(data_url)\n",
    "        z = zipfile.ZipFile(io.BytesIO(req.content))\n",
    "        z.extractall(path_name)\n",
    "    data = pd.read_csv(f'data/{name}/{filename}.csv')\n",
    "    epa_data[name] = data"
   ]
  },
  {
   "attachments": {},
   "cell_type": "markdown",
   "id": "f86fef96",
   "metadata": {},
   "source": [
    "Use the below cell to explore each of the datasets, which can be accessed using the keys in the `name` column of `epa_filenames` above. Currently, the cell is viewing the `annual_county_aqi` dataset, but feel free to change it to whichever dataset you want to explore. "
   ]
  },
  {
   "cell_type": "code",
   "execution_count": 5,
   "id": "4a83d60d",
   "metadata": {},
   "outputs": [
    {
     "data": {
      "text/html": [
       "<div>\n",
       "<style scoped>\n",
       "    .dataframe tbody tr th:only-of-type {\n",
       "        vertical-align: middle;\n",
       "    }\n",
       "\n",
       "    .dataframe tbody tr th {\n",
       "        vertical-align: top;\n",
       "    }\n",
       "\n",
       "    .dataframe thead th {\n",
       "        text-align: right;\n",
       "    }\n",
       "</style>\n",
       "<table border=\"1\" class=\"dataframe\">\n",
       "  <thead>\n",
       "    <tr style=\"text-align: right;\">\n",
       "      <th></th>\n",
       "      <th>State</th>\n",
       "      <th>County</th>\n",
       "      <th>Year</th>\n",
       "      <th>Days with AQI</th>\n",
       "      <th>Good Days</th>\n",
       "      <th>Moderate Days</th>\n",
       "      <th>Unhealthy for Sensitive Groups Days</th>\n",
       "      <th>Unhealthy Days</th>\n",
       "      <th>Very Unhealthy Days</th>\n",
       "      <th>Hazardous Days</th>\n",
       "      <th>Max AQI</th>\n",
       "      <th>90th Percentile AQI</th>\n",
       "      <th>Median AQI</th>\n",
       "      <th>Days CO</th>\n",
       "      <th>Days NO2</th>\n",
       "      <th>Days Ozone</th>\n",
       "      <th>Days SO2</th>\n",
       "      <th>Days PM2.5</th>\n",
       "      <th>Days PM10</th>\n",
       "    </tr>\n",
       "  </thead>\n",
       "  <tbody>\n",
       "    <tr>\n",
       "      <th>0</th>\n",
       "      <td>Alabama</td>\n",
       "      <td>Baldwin</td>\n",
       "      <td>2020</td>\n",
       "      <td>269</td>\n",
       "      <td>250</td>\n",
       "      <td>19</td>\n",
       "      <td>0</td>\n",
       "      <td>0</td>\n",
       "      <td>0</td>\n",
       "      <td>0</td>\n",
       "      <td>74</td>\n",
       "      <td>49</td>\n",
       "      <td>36</td>\n",
       "      <td>0</td>\n",
       "      <td>0</td>\n",
       "      <td>198</td>\n",
       "      <td>0</td>\n",
       "      <td>71</td>\n",
       "      <td>0</td>\n",
       "    </tr>\n",
       "    <tr>\n",
       "      <th>1</th>\n",
       "      <td>Alabama</td>\n",
       "      <td>Clay</td>\n",
       "      <td>2020</td>\n",
       "      <td>108</td>\n",
       "      <td>99</td>\n",
       "      <td>9</td>\n",
       "      <td>0</td>\n",
       "      <td>0</td>\n",
       "      <td>0</td>\n",
       "      <td>0</td>\n",
       "      <td>86</td>\n",
       "      <td>49</td>\n",
       "      <td>26</td>\n",
       "      <td>0</td>\n",
       "      <td>0</td>\n",
       "      <td>0</td>\n",
       "      <td>0</td>\n",
       "      <td>108</td>\n",
       "      <td>0</td>\n",
       "    </tr>\n",
       "    <tr>\n",
       "      <th>2</th>\n",
       "      <td>Alabama</td>\n",
       "      <td>DeKalb</td>\n",
       "      <td>2020</td>\n",
       "      <td>364</td>\n",
       "      <td>350</td>\n",
       "      <td>14</td>\n",
       "      <td>0</td>\n",
       "      <td>0</td>\n",
       "      <td>0</td>\n",
       "      <td>0</td>\n",
       "      <td>90</td>\n",
       "      <td>45</td>\n",
       "      <td>36</td>\n",
       "      <td>0</td>\n",
       "      <td>0</td>\n",
       "      <td>331</td>\n",
       "      <td>0</td>\n",
       "      <td>33</td>\n",
       "      <td>0</td>\n",
       "    </tr>\n",
       "    <tr>\n",
       "      <th>3</th>\n",
       "      <td>Alabama</td>\n",
       "      <td>Elmore</td>\n",
       "      <td>2020</td>\n",
       "      <td>197</td>\n",
       "      <td>197</td>\n",
       "      <td>0</td>\n",
       "      <td>0</td>\n",
       "      <td>0</td>\n",
       "      <td>0</td>\n",
       "      <td>0</td>\n",
       "      <td>47</td>\n",
       "      <td>41</td>\n",
       "      <td>31</td>\n",
       "      <td>0</td>\n",
       "      <td>0</td>\n",
       "      <td>197</td>\n",
       "      <td>0</td>\n",
       "      <td>0</td>\n",
       "      <td>0</td>\n",
       "    </tr>\n",
       "    <tr>\n",
       "      <th>4</th>\n",
       "      <td>Alabama</td>\n",
       "      <td>Etowah</td>\n",
       "      <td>2020</td>\n",
       "      <td>278</td>\n",
       "      <td>260</td>\n",
       "      <td>18</td>\n",
       "      <td>0</td>\n",
       "      <td>0</td>\n",
       "      <td>0</td>\n",
       "      <td>0</td>\n",
       "      <td>92</td>\n",
       "      <td>46</td>\n",
       "      <td>34</td>\n",
       "      <td>0</td>\n",
       "      <td>0</td>\n",
       "      <td>204</td>\n",
       "      <td>0</td>\n",
       "      <td>74</td>\n",
       "      <td>0</td>\n",
       "    </tr>\n",
       "  </tbody>\n",
       "</table>\n",
       "</div>"
      ],
      "text/plain": [
       "     State   County  Year  Days with AQI  Good Days  Moderate Days  \\\n",
       "0  Alabama  Baldwin  2020            269        250             19   \n",
       "1  Alabama     Clay  2020            108         99              9   \n",
       "2  Alabama   DeKalb  2020            364        350             14   \n",
       "3  Alabama   Elmore  2020            197        197              0   \n",
       "4  Alabama   Etowah  2020            278        260             18   \n",
       "\n",
       "   Unhealthy for Sensitive Groups Days  Unhealthy Days  Very Unhealthy Days  \\\n",
       "0                                    0               0                    0   \n",
       "1                                    0               0                    0   \n",
       "2                                    0               0                    0   \n",
       "3                                    0               0                    0   \n",
       "4                                    0               0                    0   \n",
       "\n",
       "   Hazardous Days  Max AQI  90th Percentile AQI  Median AQI  Days CO  \\\n",
       "0               0       74                   49          36        0   \n",
       "1               0       86                   49          26        0   \n",
       "2               0       90                   45          36        0   \n",
       "3               0       47                   41          31        0   \n",
       "4               0       92                   46          34        0   \n",
       "\n",
       "   Days NO2  Days Ozone  Days SO2  Days PM2.5  Days PM10  \n",
       "0         0         198         0          71          0  \n",
       "1         0           0         0         108          0  \n",
       "2         0         331         0          33          0  \n",
       "3         0         197         0           0          0  \n",
       "4         0         204         0          74          0  "
      ]
     },
     "execution_count": 5,
     "metadata": {},
     "output_type": "execute_result"
    }
   ],
   "source": [
    "epa_data.get('annual_county_aqi').head()"
   ]
  },
  {
   "attachments": {},
   "cell_type": "markdown",
   "id": "bb2e3c82",
   "metadata": {
    "deletable": false,
    "editable": false
   },
   "source": [
    "<!-- BEGIN QUESTION -->\n",
    "\n",
    "<br/>\n",
    "\n",
    "### Question 0: Understanding the Data\n",
    "\n",
    "Notice that for the table `annual_county_aqi`, the 90th percentile AQI is reported as a column. Why would the 90th percentile AQI be useful as opposed to the maximum? What does it mean when the difference between the 90th percentile AQI and Max AQI is very large compared to the difference between the 90th percentile AQI and the median AQI?\n",
    "\n",
    "<!--\n",
    "BEGIN QUESTION\n",
    "name: q0\n",
    "manual: True\n",
    "points: 2\n",
    "-->"
   ]
  },
  {
   "attachments": {},
   "cell_type": "markdown",
   "id": "09a64f72",
   "metadata": {},
   "source": [
    "The 90th% AQI value represents 90% of the AQI values in the year which were less than the 90th % value. It is more useful than the maximum because the maximum, which represents the highest daily AQI value in a year, can be an outlier when being used to make estimates. It would mean that the maximum value is an outlier."
   ]
  },
  {
   "attachments": {},
   "cell_type": "markdown",
   "id": "f81fa62f",
   "metadata": {
    "deletable": false,
    "editable": false
   },
   "source": [
    "<!-- END QUESTION -->\n",
    "\n",
    "<br/>\n",
    "\n",
    "### Question 1a: Creating Month and Day Columns\n",
    "\n",
    "In the `daily_county_aqi` table in `epa_data`, add two new columns called `Day` and `Month` that denote the day and month, respectively, of the AQI reading. The day and month should both be reported as an **integer** as opposed to a string (`Jan`, `Feb`, etc.)\n",
    "\n",
    "hint: `pd.to_datetime` may be useful.\n",
    "\n",
    "<!--\n",
    "BEGIN QUESTION\n",
    "name: q1a\n",
    "points: 1\n",
    "-->"
   ]
  },
  {
   "cell_type": "code",
   "execution_count": 6,
   "id": "e3287b23",
   "metadata": {},
   "outputs": [
    {
     "data": {
      "text/html": [
       "<div>\n",
       "<style scoped>\n",
       "    .dataframe tbody tr th:only-of-type {\n",
       "        vertical-align: middle;\n",
       "    }\n",
       "\n",
       "    .dataframe tbody tr th {\n",
       "        vertical-align: top;\n",
       "    }\n",
       "\n",
       "    .dataframe thead th {\n",
       "        text-align: right;\n",
       "    }\n",
       "</style>\n",
       "<table border=\"1\" class=\"dataframe\">\n",
       "  <thead>\n",
       "    <tr style=\"text-align: right;\">\n",
       "      <th></th>\n",
       "      <th>State Name</th>\n",
       "      <th>county Name</th>\n",
       "      <th>State Code</th>\n",
       "      <th>County Code</th>\n",
       "      <th>Date</th>\n",
       "      <th>AQI</th>\n",
       "      <th>Category</th>\n",
       "      <th>Defining Parameter</th>\n",
       "      <th>Defining Site</th>\n",
       "      <th>Number of Sites Reporting</th>\n",
       "      <th>Month</th>\n",
       "      <th>Day</th>\n",
       "    </tr>\n",
       "  </thead>\n",
       "  <tbody>\n",
       "    <tr>\n",
       "      <th>0</th>\n",
       "      <td>Alabama</td>\n",
       "      <td>Baldwin</td>\n",
       "      <td>1</td>\n",
       "      <td>3</td>\n",
       "      <td>2020-01-01</td>\n",
       "      <td>48</td>\n",
       "      <td>Good</td>\n",
       "      <td>PM2.5</td>\n",
       "      <td>01-003-0010</td>\n",
       "      <td>1</td>\n",
       "      <td>1</td>\n",
       "      <td>1</td>\n",
       "    </tr>\n",
       "    <tr>\n",
       "      <th>1</th>\n",
       "      <td>Alabama</td>\n",
       "      <td>Baldwin</td>\n",
       "      <td>1</td>\n",
       "      <td>3</td>\n",
       "      <td>2020-01-04</td>\n",
       "      <td>13</td>\n",
       "      <td>Good</td>\n",
       "      <td>PM2.5</td>\n",
       "      <td>01-003-0010</td>\n",
       "      <td>1</td>\n",
       "      <td>1</td>\n",
       "      <td>4</td>\n",
       "    </tr>\n",
       "    <tr>\n",
       "      <th>2</th>\n",
       "      <td>Alabama</td>\n",
       "      <td>Baldwin</td>\n",
       "      <td>1</td>\n",
       "      <td>3</td>\n",
       "      <td>2020-01-07</td>\n",
       "      <td>14</td>\n",
       "      <td>Good</td>\n",
       "      <td>PM2.5</td>\n",
       "      <td>01-003-0010</td>\n",
       "      <td>1</td>\n",
       "      <td>1</td>\n",
       "      <td>7</td>\n",
       "    </tr>\n",
       "    <tr>\n",
       "      <th>3</th>\n",
       "      <td>Alabama</td>\n",
       "      <td>Baldwin</td>\n",
       "      <td>1</td>\n",
       "      <td>3</td>\n",
       "      <td>2020-01-10</td>\n",
       "      <td>39</td>\n",
       "      <td>Good</td>\n",
       "      <td>PM2.5</td>\n",
       "      <td>01-003-0010</td>\n",
       "      <td>1</td>\n",
       "      <td>1</td>\n",
       "      <td>10</td>\n",
       "    </tr>\n",
       "    <tr>\n",
       "      <th>4</th>\n",
       "      <td>Alabama</td>\n",
       "      <td>Baldwin</td>\n",
       "      <td>1</td>\n",
       "      <td>3</td>\n",
       "      <td>2020-01-13</td>\n",
       "      <td>29</td>\n",
       "      <td>Good</td>\n",
       "      <td>PM2.5</td>\n",
       "      <td>01-003-0010</td>\n",
       "      <td>1</td>\n",
       "      <td>1</td>\n",
       "      <td>13</td>\n",
       "    </tr>\n",
       "  </tbody>\n",
       "</table>\n",
       "</div>"
      ],
      "text/plain": [
       "  State Name county Name  State Code  County Code        Date  AQI Category  \\\n",
       "0    Alabama     Baldwin           1            3  2020-01-01   48     Good   \n",
       "1    Alabama     Baldwin           1            3  2020-01-04   13     Good   \n",
       "2    Alabama     Baldwin           1            3  2020-01-07   14     Good   \n",
       "3    Alabama     Baldwin           1            3  2020-01-10   39     Good   \n",
       "4    Alabama     Baldwin           1            3  2020-01-13   29     Good   \n",
       "\n",
       "  Defining Parameter Defining Site  Number of Sites Reporting  Month  Day  \n",
       "0              PM2.5   01-003-0010                          1      1    1  \n",
       "1              PM2.5   01-003-0010                          1      1    4  \n",
       "2              PM2.5   01-003-0010                          1      1    7  \n",
       "3              PM2.5   01-003-0010                          1      1   10  \n",
       "4              PM2.5   01-003-0010                          1      1   13  "
      ]
     },
     "execution_count": 6,
     "metadata": {},
     "output_type": "execute_result"
    }
   ],
   "source": [
    "daily_county = epa_data.get('daily_county_aqi')\n",
    "daily_county['Month'] = pd.DatetimeIndex(daily_county['Date']).month\n",
    "daily_county['Day'] = pd.DatetimeIndex(daily_county['Date']).day\n",
    "\n",
    "\n",
    "daily_county.head()"
   ]
  },
  {
   "cell_type": "code",
   "execution_count": 7,
   "id": "a01fb006",
   "metadata": {
    "deletable": false,
    "editable": false
   },
   "outputs": [
    {
     "data": {
      "text/html": [
       "<p><strong><pre style='display: inline;'>q1a</pre></strong> passed!</p>"
      ],
      "text/plain": [
       "q1a results: All test cases passed!"
      ]
     },
     "execution_count": 7,
     "metadata": {},
     "output_type": "execute_result"
    }
   ],
   "source": [
    "grader.check(\"q1a\")"
   ]
  },
  {
   "attachments": {},
   "cell_type": "markdown",
   "id": "d7aac1d3",
   "metadata": {
    "deletable": false,
    "editable": false
   },
   "source": [
    "<br/>\n",
    "\n",
    "### Question 1b: California Data\n",
    "\n",
    "Currently, `epa_data` contains data for **all** counties in the United States. For the guided part of this project, we are specifically going to be focusing on AQI data for counties in California only. Your task is to assign `epa_data_CA` a dictionary mapping table names to dataframes. This map should have the same contents as `epa_data` but only tables that contain **daily data** in the state of `California`.\n",
    "\n",
    "<!--\n",
    "BEGIN QUESTION\n",
    "name: q1b\n",
    "points: 3\n",
    "-->"
   ]
  },
  {
   "cell_type": "code",
   "execution_count": 8,
   "id": "0b203093",
   "metadata": {},
   "outputs": [
    {
     "data": {
      "text/html": [
       "<div>\n",
       "<style scoped>\n",
       "    .dataframe tbody tr th:only-of-type {\n",
       "        vertical-align: middle;\n",
       "    }\n",
       "\n",
       "    .dataframe tbody tr th {\n",
       "        vertical-align: top;\n",
       "    }\n",
       "\n",
       "    .dataframe thead th {\n",
       "        text-align: right;\n",
       "    }\n",
       "</style>\n",
       "<table border=\"1\" class=\"dataframe\">\n",
       "  <thead>\n",
       "    <tr style=\"text-align: right;\">\n",
       "      <th></th>\n",
       "      <th>State Name</th>\n",
       "      <th>county Name</th>\n",
       "      <th>State Code</th>\n",
       "      <th>County Code</th>\n",
       "      <th>Date</th>\n",
       "      <th>AQI</th>\n",
       "      <th>Category</th>\n",
       "      <th>Defining Parameter</th>\n",
       "      <th>Defining Site</th>\n",
       "      <th>Number of Sites Reporting</th>\n",
       "      <th>Month</th>\n",
       "      <th>Day</th>\n",
       "    </tr>\n",
       "  </thead>\n",
       "  <tbody>\n",
       "    <tr>\n",
       "      <th>14003</th>\n",
       "      <td>California</td>\n",
       "      <td>Alameda</td>\n",
       "      <td>6</td>\n",
       "      <td>1</td>\n",
       "      <td>2020-01-01</td>\n",
       "      <td>53</td>\n",
       "      <td>Moderate</td>\n",
       "      <td>PM2.5</td>\n",
       "      <td>06-001-0009</td>\n",
       "      <td>7</td>\n",
       "      <td>1</td>\n",
       "      <td>1</td>\n",
       "    </tr>\n",
       "    <tr>\n",
       "      <th>14004</th>\n",
       "      <td>California</td>\n",
       "      <td>Alameda</td>\n",
       "      <td>6</td>\n",
       "      <td>1</td>\n",
       "      <td>2020-01-02</td>\n",
       "      <td>43</td>\n",
       "      <td>Good</td>\n",
       "      <td>PM2.5</td>\n",
       "      <td>06-001-0013</td>\n",
       "      <td>7</td>\n",
       "      <td>1</td>\n",
       "      <td>2</td>\n",
       "    </tr>\n",
       "    <tr>\n",
       "      <th>14005</th>\n",
       "      <td>California</td>\n",
       "      <td>Alameda</td>\n",
       "      <td>6</td>\n",
       "      <td>1</td>\n",
       "      <td>2020-01-03</td>\n",
       "      <td>74</td>\n",
       "      <td>Moderate</td>\n",
       "      <td>PM2.5</td>\n",
       "      <td>06-001-0013</td>\n",
       "      <td>7</td>\n",
       "      <td>1</td>\n",
       "      <td>3</td>\n",
       "    </tr>\n",
       "    <tr>\n",
       "      <th>14006</th>\n",
       "      <td>California</td>\n",
       "      <td>Alameda</td>\n",
       "      <td>6</td>\n",
       "      <td>1</td>\n",
       "      <td>2020-01-04</td>\n",
       "      <td>45</td>\n",
       "      <td>Good</td>\n",
       "      <td>PM2.5</td>\n",
       "      <td>06-001-0007</td>\n",
       "      <td>7</td>\n",
       "      <td>1</td>\n",
       "      <td>4</td>\n",
       "    </tr>\n",
       "    <tr>\n",
       "      <th>14007</th>\n",
       "      <td>California</td>\n",
       "      <td>Alameda</td>\n",
       "      <td>6</td>\n",
       "      <td>1</td>\n",
       "      <td>2020-01-05</td>\n",
       "      <td>33</td>\n",
       "      <td>Good</td>\n",
       "      <td>PM2.5</td>\n",
       "      <td>06-001-0007</td>\n",
       "      <td>7</td>\n",
       "      <td>1</td>\n",
       "      <td>5</td>\n",
       "    </tr>\n",
       "  </tbody>\n",
       "</table>\n",
       "</div>"
      ],
      "text/plain": [
       "       State Name county Name  State Code  County Code        Date  AQI  \\\n",
       "14003  California     Alameda           6            1  2020-01-01   53   \n",
       "14004  California     Alameda           6            1  2020-01-02   43   \n",
       "14005  California     Alameda           6            1  2020-01-03   74   \n",
       "14006  California     Alameda           6            1  2020-01-04   45   \n",
       "14007  California     Alameda           6            1  2020-01-05   33   \n",
       "\n",
       "       Category Defining Parameter Defining Site  Number of Sites Reporting  \\\n",
       "14003  Moderate              PM2.5   06-001-0009                          7   \n",
       "14004      Good              PM2.5   06-001-0013                          7   \n",
       "14005  Moderate              PM2.5   06-001-0013                          7   \n",
       "14006      Good              PM2.5   06-001-0007                          7   \n",
       "14007      Good              PM2.5   06-001-0007                          7   \n",
       "\n",
       "       Month  Day  \n",
       "14003      1    1  \n",
       "14004      1    2  \n",
       "14005      1    3  \n",
       "14006      1    4  \n",
       "14007      1    5  "
      ]
     },
     "execution_count": 8,
     "metadata": {},
     "output_type": "execute_result"
    }
   ],
   "source": [
    "epa_data_CA = {}\n",
    "\n",
    "epa_data_copy = epa_data.copy()\n",
    "\n",
    "keys = epa_filenames[epa_filenames[\"name\"].str.contains(\"daily\")][\"name\"]\n",
    "for k in keys:\n",
    "    epa_data_copy[k] = epa_data.get(k)[epa_data.get(k)[\"State Name\"].str.contains(\"California\")]\n",
    "    \n",
    "epa_data_copy.pop('annual_county_aqi')\n",
    "epa_data_copy.pop('aqs_sites')\n",
    "\n",
    "epa_data_CA = epa_data_copy\n",
    "epa_data_CA.get('daily_county_aqi').head()"
   ]
  },
  {
   "cell_type": "code",
   "execution_count": 9,
   "id": "3ff29afa",
   "metadata": {
    "deletable": false,
    "editable": false
   },
   "outputs": [
    {
     "data": {
      "text/html": [
       "<p><strong><pre style='display: inline;'>q1b</pre></strong> passed!</p>"
      ],
      "text/plain": [
       "q1b results: All test cases passed!"
      ]
     },
     "execution_count": 9,
     "metadata": {},
     "output_type": "execute_result"
    }
   ],
   "source": [
    "grader.check(\"q1b\")"
   ]
  },
  {
   "attachments": {},
   "cell_type": "markdown",
   "id": "cbd789c4",
   "metadata": {
    "deletable": false,
    "editable": false
   },
   "source": [
    "<br/>\n",
    "\n",
    "### Question 1c: Merging Site Information\n",
    "\n",
    "Now take a look at this [link](https://www.epa.gov/outdoor-air-quality-data/about-air-data-reports) and look under \"Site ID\". For later analysis, we want to first get the latitude and longitudes of each of the measurements in the `daily_county_aqi` table by merging two or more tables in `epa_data_CA` (one of the tables is `daily_county_aqi`).\n",
    "\n",
    "Our final merged table should be assigned to `epa_data_CA_merged` and the result should contain the following columns: `State Name`, `county Name`, `Month`, `Day`, `AQI`, `Category`, `Defining Site`, `Latitude`, and `Longitude`\n",
    "\n",
    "<!--\n",
    "BEGIN QUESTION\n",
    "name: q1c\n",
    "points: 4\n",
    "-->"
   ]
  },
  {
   "cell_type": "code",
   "execution_count": 10,
   "id": "be28f7dc",
   "metadata": {},
   "outputs": [
    {
     "data": {
      "text/html": [
       "<div>\n",
       "<style scoped>\n",
       "    .dataframe tbody tr th:only-of-type {\n",
       "        vertical-align: middle;\n",
       "    }\n",
       "\n",
       "    .dataframe tbody tr th {\n",
       "        vertical-align: top;\n",
       "    }\n",
       "\n",
       "    .dataframe thead th {\n",
       "        text-align: right;\n",
       "    }\n",
       "</style>\n",
       "<table border=\"1\" class=\"dataframe\">\n",
       "  <thead>\n",
       "    <tr style=\"text-align: right;\">\n",
       "      <th></th>\n",
       "      <th>State Name</th>\n",
       "      <th>county Name</th>\n",
       "      <th>Month</th>\n",
       "      <th>Day</th>\n",
       "      <th>AQI</th>\n",
       "      <th>Category</th>\n",
       "      <th>Defining Site</th>\n",
       "      <th>Latitude</th>\n",
       "      <th>Longitude</th>\n",
       "    </tr>\n",
       "  </thead>\n",
       "  <tbody>\n",
       "    <tr>\n",
       "      <th>0</th>\n",
       "      <td>California</td>\n",
       "      <td>Alameda</td>\n",
       "      <td>1</td>\n",
       "      <td>1</td>\n",
       "      <td>53</td>\n",
       "      <td>Moderate</td>\n",
       "      <td>06-001-0009</td>\n",
       "      <td>37.743065</td>\n",
       "      <td>-122.169935</td>\n",
       "    </tr>\n",
       "    <tr>\n",
       "      <th>1</th>\n",
       "      <td>California</td>\n",
       "      <td>Alameda</td>\n",
       "      <td>1</td>\n",
       "      <td>25</td>\n",
       "      <td>40</td>\n",
       "      <td>Good</td>\n",
       "      <td>06-001-0009</td>\n",
       "      <td>37.743065</td>\n",
       "      <td>-122.169935</td>\n",
       "    </tr>\n",
       "    <tr>\n",
       "      <th>2</th>\n",
       "      <td>California</td>\n",
       "      <td>Alameda</td>\n",
       "      <td>7</td>\n",
       "      <td>3</td>\n",
       "      <td>48</td>\n",
       "      <td>Good</td>\n",
       "      <td>06-001-0009</td>\n",
       "      <td>37.743065</td>\n",
       "      <td>-122.169935</td>\n",
       "    </tr>\n",
       "    <tr>\n",
       "      <th>3</th>\n",
       "      <td>California</td>\n",
       "      <td>Alameda</td>\n",
       "      <td>7</td>\n",
       "      <td>4</td>\n",
       "      <td>115</td>\n",
       "      <td>Unhealthy for Sensitive Groups</td>\n",
       "      <td>06-001-0009</td>\n",
       "      <td>37.743065</td>\n",
       "      <td>-122.169935</td>\n",
       "    </tr>\n",
       "    <tr>\n",
       "      <th>4</th>\n",
       "      <td>California</td>\n",
       "      <td>Alameda</td>\n",
       "      <td>7</td>\n",
       "      <td>5</td>\n",
       "      <td>78</td>\n",
       "      <td>Moderate</td>\n",
       "      <td>06-001-0009</td>\n",
       "      <td>37.743065</td>\n",
       "      <td>-122.169935</td>\n",
       "    </tr>\n",
       "  </tbody>\n",
       "</table>\n",
       "</div>"
      ],
      "text/plain": [
       "   State Name county Name  Month  Day  AQI                        Category  \\\n",
       "0  California     Alameda      1    1   53                        Moderate   \n",
       "1  California     Alameda      1   25   40                            Good   \n",
       "2  California     Alameda      7    3   48                            Good   \n",
       "3  California     Alameda      7    4  115  Unhealthy for Sensitive Groups   \n",
       "4  California     Alameda      7    5   78                        Moderate   \n",
       "\n",
       "  Defining Site   Latitude   Longitude  \n",
       "0   06-001-0009  37.743065 -122.169935  \n",
       "1   06-001-0009  37.743065 -122.169935  \n",
       "2   06-001-0009  37.743065 -122.169935  \n",
       "3   06-001-0009  37.743065 -122.169935  \n",
       "4   06-001-0009  37.743065 -122.169935  "
      ]
     },
     "execution_count": 10,
     "metadata": {},
     "output_type": "execute_result"
    }
   ],
   "source": [
    "cols = ['State Name', 'county Name', 'Month', 'Day', 'AQI', 'Category', 'Defining Site', 'Latitude', 'Longitude']\n",
    "\n",
    "left_df = epa_data_CA.get('daily_county_aqi')\n",
    "\n",
    "left_df[\"Site Num\"] = pd.to_numeric(left_df[\"Defining Site\"].str.split(\"-\").str[2])\n",
    "\n",
    "right_df = epa_data.get('aqs_sites')[epa_data.get('aqs_sites')[\"State Code\"].str.contains(\"06\")]\n",
    "\n",
    "merged = left_df.merge(right_df, left_on = [\"Site Num\", \"County Code\"], right_on = [\"Site Number\", \"County Code\"], how = \"inner\")\n",
    "merged.rename(columns = {\"State Name_x\": \"State Name\"}, inplace = True)\n",
    "\n",
    "epa_data_CA_merged = merged[cols]\n",
    "epa_data_CA_merged.head()"
   ]
  },
  {
   "cell_type": "code",
   "execution_count": 11,
   "id": "86b3e2aa",
   "metadata": {
    "deletable": false,
    "editable": false
   },
   "outputs": [
    {
     "data": {
      "text/html": [
       "<p><strong><pre style='display: inline;'>q1c</pre></strong> passed!</p>"
      ],
      "text/plain": [
       "q1c results: All test cases passed!"
      ]
     },
     "execution_count": 11,
     "metadata": {},
     "output_type": "execute_result"
    }
   ],
   "source": [
    "grader.check(\"q1c\")"
   ]
  },
  {
   "attachments": {},
   "cell_type": "markdown",
   "id": "0934d18f",
   "metadata": {
    "deletable": false,
    "editable": false
   },
   "source": [
    "<br/>\n",
    "\n",
    "### Question 2a - Cleaning Traffic Data \n",
    "\n",
    "Throughout this project, you will be using other datasets to assist with analysis and predictions. Traditionally, to join dataframes we need to join on a specific column with shared values. However, when it comes to locations, exact latitudes and longitudes are hard to come by since it is a continuous space. First, lets look at such a dataset that we may want to merge on with `epa_data_CA_merged`. \n",
    "\n",
    "In the below cell, we have loaded in the `traffic_data` dataset, which contains traffic data for various locations in California. Your task is to clean this table so that it includes only the following columns (you may have to rename some): `District`, `Route`, `County`, `Descriptn`, `AADT`, `Latitude`, `Longitude`, where `AADT` is found by taking the sum of the back and ahead `AADT`s (you may run into some issues with cleaning the data in order to add these columns - `.str` functions may help with this). The metric AADT, annual average daily traffic, is calculated as the sum of the traffic north of the route (ahead AADT) and south of the route (back AADT). You also need to make sure to clean and remove any illegal values from the dataframe (hint: check `Latitude` and `Longitude`).\n",
    "\n",
    "*Hint:* `str` functions you will likely use: `.strip()`, `.replace()`.\n",
    "\n",
    "<!--\n",
    "BEGIN QUESTION\n",
    "name: q2a\n",
    "points: 3\n",
    "-->"
   ]
  },
  {
   "cell_type": "code",
   "execution_count": 12,
   "id": "fbd51a57",
   "metadata": {},
   "outputs": [
    {
     "data": {
      "text/html": [
       "<div>\n",
       "<style scoped>\n",
       "    .dataframe tbody tr th:only-of-type {\n",
       "        vertical-align: middle;\n",
       "    }\n",
       "\n",
       "    .dataframe tbody tr th {\n",
       "        vertical-align: top;\n",
       "    }\n",
       "\n",
       "    .dataframe thead th {\n",
       "        text-align: right;\n",
       "    }\n",
       "</style>\n",
       "<table border=\"1\" class=\"dataframe\">\n",
       "  <thead>\n",
       "    <tr style=\"text-align: right;\">\n",
       "      <th></th>\n",
       "      <th>District</th>\n",
       "      <th>Route</th>\n",
       "      <th>County</th>\n",
       "      <th>Descriptn</th>\n",
       "      <th>AADT</th>\n",
       "      <th>Longitude</th>\n",
       "      <th>Latitude</th>\n",
       "    </tr>\n",
       "  </thead>\n",
       "  <tbody>\n",
       "    <tr>\n",
       "      <th>7115</th>\n",
       "      <td>12</td>\n",
       "      <td>605</td>\n",
       "      <td>ORA</td>\n",
       "      <td>SEAL BEACH, JCT RTE 22</td>\n",
       "      <td>46100</td>\n",
       "      <td>-118.0914735</td>\n",
       "      <td>33.7786335</td>\n",
       "    </tr>\n",
       "    <tr>\n",
       "      <th>7116</th>\n",
       "      <td>12</td>\n",
       "      <td>605</td>\n",
       "      <td>ORA</td>\n",
       "      <td>JCT. RTE. 405</td>\n",
       "      <td>212200</td>\n",
       "      <td>-118.0917676</td>\n",
       "      <td>33.78441396</td>\n",
       "    </tr>\n",
       "    <tr>\n",
       "      <th>7117</th>\n",
       "      <td>12</td>\n",
       "      <td>605</td>\n",
       "      <td>ORA</td>\n",
       "      <td>LOS ALAMITOS, KATELLA AVENUE</td>\n",
       "      <td>326800</td>\n",
       "      <td>-118.0820302</td>\n",
       "      <td>33.80279867</td>\n",
       "    </tr>\n",
       "    <tr>\n",
       "      <th>7118</th>\n",
       "      <td>12</td>\n",
       "      <td>605</td>\n",
       "      <td>ORA</td>\n",
       "      <td>ORANGE/LOS ANGELES COUNTY LINE</td>\n",
       "      <td>170000</td>\n",
       "      <td>-118.081547</td>\n",
       "      <td>33.80613969</td>\n",
       "    </tr>\n",
       "    <tr>\n",
       "      <th>7119</th>\n",
       "      <td>3</td>\n",
       "      <td>99</td>\n",
       "      <td>SAC</td>\n",
       "      <td>BREAK IN ROUTE</td>\n",
       "      <td>0</td>\n",
       "      <td>-121.4736488</td>\n",
       "      <td>38.55883754</td>\n",
       "    </tr>\n",
       "  </tbody>\n",
       "</table>\n",
       "</div>"
      ],
      "text/plain": [
       "      District  Route County                       Descriptn    AADT  \\\n",
       "7115        12    605    ORA          SEAL BEACH, JCT RTE 22   46100   \n",
       "7116        12    605    ORA                   JCT. RTE. 405  212200   \n",
       "7117        12    605    ORA    LOS ALAMITOS, KATELLA AVENUE  326800   \n",
       "7118        12    605    ORA  ORANGE/LOS ANGELES COUNTY LINE  170000   \n",
       "7119         3     99    SAC                  BREAK IN ROUTE       0   \n",
       "\n",
       "         Longitude     Latitude  \n",
       "7115  -118.0914735   33.7786335  \n",
       "7116  -118.0917676  33.78441396  \n",
       "7117  -118.0820302  33.80279867  \n",
       "7118   -118.081547  33.80613969  \n",
       "7119  -121.4736488  38.55883754  "
      ]
     },
     "execution_count": 12,
     "metadata": {},
     "output_type": "execute_result"
    }
   ],
   "source": [
    "traffic_data = pd.read_csv(\"data/Traffic_Volumes_AADT.csv\")\n",
    "\n",
    "back_data = traffic_data[['Back_AADT']]\n",
    "back_data.replace(to_replace = ' ', value = 0, inplace = True)\n",
    "front_data = traffic_data[['Ahead_AADT']]\n",
    "front_data.replace(to_replace = ' ', value = 0, inplace = True)\n",
    "\n",
    "traffic_data['Back_AADT'] = back_data\n",
    "traffic_data['Ahead_AADT'] = front_data\n",
    "\n",
    "AADT = traffic_data['Back_AADT'].astype(int) + traffic_data['Ahead_AADT'].astype(int)\n",
    "traffic_data['AADT'] = AADT\n",
    "back_data.replace(to_replace = ' ', value = 0, inplace = True)\n",
    "\n",
    "repl = r\"[0-9]\"\n",
    "Lon_S_or_W_not_cleaned = traffic_data['Lon_S_or_W']\n",
    "Lon_S_or_W_cleaned = traffic_data[['Lon_S_or_W']][Lon_S_or_W_not_cleaned.str.contains(repl)]\n",
    "traffic_data[['Lon_S_or_W']] = Lon_S_or_W_cleaned\n",
    "Lat_S_or_W_not_cleaned = traffic_data['Lat_S_or_W']\n",
    "Lat_S_or_W_cleaned = traffic_data[['Lat_S_or_W']][Lat_S_or_W_not_cleaned.str.contains(repl)]\n",
    "traffic_data[['Lat_S_or_W']] = Lat_S_or_W_cleaned\n",
    "Lon_N_or_E_not_cleaned = traffic_data['Lon_N_or_E']\n",
    "Lon_N_or_E_cleaned = traffic_data[['Lon_N_or_E']][Lon_N_or_E_not_cleaned.str.contains(repl)]\n",
    "traffic_data[['Lon_N_or_E']] = Lon_N_or_E_cleaned\n",
    "Lat_N_or_E_not_cleaned = traffic_data['Lat_N_or_E']\n",
    "Lat_N_or_E_cleaned = traffic_data[['Lat_N_or_E']][Lat_N_or_E_not_cleaned.str.contains(repl)]\n",
    "traffic_data[['Lat_N_or_E']] = Lat_N_or_E_cleaned\n",
    "\n",
    "traffic_data.rename(columns = {'Lon_S_or_W' : \"Longitude\"}, inplace = True)\n",
    "traffic_data.rename(columns = {'Lat_S_or_W' : \"Latitude\"}, inplace = True)\n",
    "traffic_data_cleaned = traffic_data[['District', 'Route', 'County', 'Descriptn', 'AADT', \"Longitude\", \"Latitude\"]]\n",
    "traffic_data_cleaned.tail()"
   ]
  },
  {
   "cell_type": "code",
   "execution_count": 13,
   "id": "302e1457",
   "metadata": {
    "deletable": false,
    "editable": false
   },
   "outputs": [
    {
     "data": {
      "text/html": [
       "<p><strong><pre style='display: inline;'>q2a</pre></strong> passed!</p>"
      ],
      "text/plain": [
       "q2a results: All test cases passed!"
      ]
     },
     "execution_count": 13,
     "metadata": {},
     "output_type": "execute_result"
    }
   ],
   "source": [
    "grader.check(\"q2a\")"
   ]
  },
  {
   "attachments": {},
   "cell_type": "markdown",
   "id": "67e35cda",
   "metadata": {
    "deletable": false,
    "editable": false
   },
   "source": [
    "### Question 2b - Merging on Traffic Data \n",
    "\n",
    "Traditionally, we could employ some sort of join where we join `epa_data_CA_merged` rows with the row in `traffic_data` that it is the \"closest\" to, as measured by euclidean distance. As you can imagine, this can be quite tedious so instead we will use a special type of join called a **spatial join**, which can be done using the package `geopandas`, which is imported as `gpd`. The documentation for `geopandas` is linked [here](https://geopandas.org/docs/reference/api/geopandas.sjoin_nearest.html). Please use this as a resource to do the following tasks: \n",
    "\n",
    " - turn `traffic_data_cleaned` and `epa_data_CA_merged` into a geopandas dataframe using the latitude and longitude.\n",
    " - Use a spatial join (which function is this in the documentation?) to match the correct traffic row information to each entry in `epa_data_CA_merged`. \n",
    "\n",
    "Your final dataframe should be assigned to `gpd_epa_traffic` with the following columns: `State Name`, `county Name`, `Month`, `Day`, `AQI`, `Category`, `Defining Site`, `Site Lat`, `Site Long`, `Traffic Lat`, `Traffic Long`, `Descriptn`, and `AADT`.\n",
    "\n",
    "<!--\n",
    "BEGIN QUESTION\n",
    "name: q2b\n",
    "points: 2\n",
    "-->"
   ]
  },
  {
   "cell_type": "code",
   "execution_count": 14,
   "id": "eef79865",
   "metadata": {},
   "outputs": [
    {
     "data": {
      "text/html": [
       "<div>\n",
       "<style scoped>\n",
       "    .dataframe tbody tr th:only-of-type {\n",
       "        vertical-align: middle;\n",
       "    }\n",
       "\n",
       "    .dataframe tbody tr th {\n",
       "        vertical-align: top;\n",
       "    }\n",
       "\n",
       "    .dataframe thead th {\n",
       "        text-align: right;\n",
       "    }\n",
       "</style>\n",
       "<table border=\"1\" class=\"dataframe\">\n",
       "  <thead>\n",
       "    <tr style=\"text-align: right;\">\n",
       "      <th></th>\n",
       "      <th>State Name</th>\n",
       "      <th>county Name</th>\n",
       "      <th>Month</th>\n",
       "      <th>Day</th>\n",
       "      <th>AQI</th>\n",
       "      <th>Category</th>\n",
       "      <th>Defining Site</th>\n",
       "      <th>Site Lat</th>\n",
       "      <th>Site Long</th>\n",
       "      <th>Traffic Lat</th>\n",
       "      <th>Traffic Long</th>\n",
       "      <th>Descriptn</th>\n",
       "      <th>AADT</th>\n",
       "    </tr>\n",
       "  </thead>\n",
       "  <tbody>\n",
       "    <tr>\n",
       "      <th>0</th>\n",
       "      <td>California</td>\n",
       "      <td>Alameda</td>\n",
       "      <td>1</td>\n",
       "      <td>1</td>\n",
       "      <td>53</td>\n",
       "      <td>Moderate</td>\n",
       "      <td>06-001-0009</td>\n",
       "      <td>37.743065</td>\n",
       "      <td>-122.169935</td>\n",
       "      <td>37.744352</td>\n",
       "      <td>-122.170586</td>\n",
       "      <td>OAKLAND, 98TH AVENUE</td>\n",
       "      <td>48300</td>\n",
       "    </tr>\n",
       "    <tr>\n",
       "      <th>1</th>\n",
       "      <td>California</td>\n",
       "      <td>Alameda</td>\n",
       "      <td>1</td>\n",
       "      <td>25</td>\n",
       "      <td>40</td>\n",
       "      <td>Good</td>\n",
       "      <td>06-001-0009</td>\n",
       "      <td>37.743065</td>\n",
       "      <td>-122.169935</td>\n",
       "      <td>37.744352</td>\n",
       "      <td>-122.170586</td>\n",
       "      <td>OAKLAND, 98TH AVENUE</td>\n",
       "      <td>48300</td>\n",
       "    </tr>\n",
       "    <tr>\n",
       "      <th>2</th>\n",
       "      <td>California</td>\n",
       "      <td>Alameda</td>\n",
       "      <td>7</td>\n",
       "      <td>3</td>\n",
       "      <td>48</td>\n",
       "      <td>Good</td>\n",
       "      <td>06-001-0009</td>\n",
       "      <td>37.743065</td>\n",
       "      <td>-122.169935</td>\n",
       "      <td>37.744352</td>\n",
       "      <td>-122.170586</td>\n",
       "      <td>OAKLAND, 98TH AVENUE</td>\n",
       "      <td>48300</td>\n",
       "    </tr>\n",
       "    <tr>\n",
       "      <th>3</th>\n",
       "      <td>California</td>\n",
       "      <td>Alameda</td>\n",
       "      <td>7</td>\n",
       "      <td>4</td>\n",
       "      <td>115</td>\n",
       "      <td>Unhealthy for Sensitive Groups</td>\n",
       "      <td>06-001-0009</td>\n",
       "      <td>37.743065</td>\n",
       "      <td>-122.169935</td>\n",
       "      <td>37.744352</td>\n",
       "      <td>-122.170586</td>\n",
       "      <td>OAKLAND, 98TH AVENUE</td>\n",
       "      <td>48300</td>\n",
       "    </tr>\n",
       "    <tr>\n",
       "      <th>4</th>\n",
       "      <td>California</td>\n",
       "      <td>Alameda</td>\n",
       "      <td>7</td>\n",
       "      <td>5</td>\n",
       "      <td>78</td>\n",
       "      <td>Moderate</td>\n",
       "      <td>06-001-0009</td>\n",
       "      <td>37.743065</td>\n",
       "      <td>-122.169935</td>\n",
       "      <td>37.744352</td>\n",
       "      <td>-122.170586</td>\n",
       "      <td>OAKLAND, 98TH AVENUE</td>\n",
       "      <td>48300</td>\n",
       "    </tr>\n",
       "  </tbody>\n",
       "</table>\n",
       "</div>"
      ],
      "text/plain": [
       "   State Name county Name  Month  Day  AQI                        Category  \\\n",
       "0  California     Alameda      1    1   53                        Moderate   \n",
       "1  California     Alameda      1   25   40                            Good   \n",
       "2  California     Alameda      7    3   48                            Good   \n",
       "3  California     Alameda      7    4  115  Unhealthy for Sensitive Groups   \n",
       "4  California     Alameda      7    5   78                        Moderate   \n",
       "\n",
       "  Defining Site   Site Lat   Site Long  Traffic Lat  Traffic Long  \\\n",
       "0   06-001-0009  37.743065 -122.169935    37.744352   -122.170586   \n",
       "1   06-001-0009  37.743065 -122.169935    37.744352   -122.170586   \n",
       "2   06-001-0009  37.743065 -122.169935    37.744352   -122.170586   \n",
       "3   06-001-0009  37.743065 -122.169935    37.744352   -122.170586   \n",
       "4   06-001-0009  37.743065 -122.169935    37.744352   -122.170586   \n",
       "\n",
       "              Descriptn   AADT  \n",
       "0  OAKLAND, 98TH AVENUE  48300  \n",
       "1  OAKLAND, 98TH AVENUE  48300  \n",
       "2  OAKLAND, 98TH AVENUE  48300  \n",
       "3  OAKLAND, 98TH AVENUE  48300  \n",
       "4  OAKLAND, 98TH AVENUE  48300  "
      ]
     },
     "execution_count": 14,
     "metadata": {},
     "output_type": "execute_result"
    }
   ],
   "source": [
    "traffic_data_cleaned_gpd = gpd.GeoDataFrame(\n",
    "    traffic_data_cleaned, geometry=gpd.points_from_xy(traffic_data_cleaned.Longitude, traffic_data_cleaned.Latitude))\n",
    "epa_data_CA_merged_copy = epa_data_CA_merged.copy()\n",
    "epa_data_CA_merged_gpd = gpd.GeoDataFrame(\n",
    "    epa_data_CA_merged_copy, geometry=gpd.points_from_xy(epa_data_CA_merged_copy.Longitude, epa_data_CA_merged_copy.Latitude))\n",
    "\n",
    "gpd_epa_traffic = gpd.GeoDataFrame.sjoin_nearest(epa_data_CA_merged_gpd, traffic_data_cleaned_gpd)\n",
    "\n",
    "gpd_epa_traffic.rename(columns = {'Longitude_right' : \"Traffic Long\"}, inplace = True)\n",
    "gpd_epa_traffic.rename(columns = {'Latitude_right': 'Traffic Lat'}, inplace = True)\n",
    "gpd_epa_traffic.rename(columns = {'Latitude_left' : 'Site Lat'}, inplace = True)\n",
    "gpd_epa_traffic.rename(columns = {'Longitude_left' : 'Site Long'}, inplace = True)\n",
    "\n",
    "gpd_epa_traffic = gpd_epa_traffic[['State Name', 'county Name', 'Month', 'Day', 'AQI', 'Category', \n",
    "                                   'Defining Site', 'Site Lat', 'Site Long', 'Traffic Lat', 'Traffic Long', 'Descriptn', 'AADT']]\n",
    "\n",
    "gpd_epa_traffic['Traffic Long'] = gpd_epa_traffic['Traffic Long'].astype(float)\n",
    "gpd_epa_traffic['Site Lat'] = gpd_epa_traffic['Site Lat'].astype(float)\n",
    "gpd_epa_traffic['Site Long'] = gpd_epa_traffic['Site Long'].astype(float)\n",
    "gpd_epa_traffic['Traffic Lat'] = gpd_epa_traffic['Traffic Lat'].astype(float)\n",
    "\n",
    "gpd_epa_traffic.head()"
   ]
  },
  {
   "cell_type": "code",
   "execution_count": 15,
   "id": "b551886e",
   "metadata": {
    "deletable": false,
    "editable": false
   },
   "outputs": [
    {
     "data": {
      "text/html": [
       "<p><strong><pre style='display: inline;'>q2b</pre></strong> passed!</p>"
      ],
      "text/plain": [
       "q2b results: All test cases passed!"
      ]
     },
     "execution_count": 15,
     "metadata": {},
     "output_type": "execute_result"
    }
   ],
   "source": [
    "grader.check(\"q2b\")"
   ]
  },
  {
   "attachments": {},
   "cell_type": "markdown",
   "id": "cc72f6c9",
   "metadata": {},
   "source": [
    "<br/><br/>\n",
    "\n",
    "---\n",
    "## Section 2: Guided EDA\n"
   ]
  },
  {
   "attachments": {},
   "cell_type": "markdown",
   "id": "07b60cd6",
   "metadata": {
    "deletable": false,
    "editable": false
   },
   "source": [
    "### Question 3a: Initial AQI Analysis\n",
    "\n",
    "Assign a `pd.Series` object to `worst_median_aqis` that contains the states with the top 10 worst median AQIs throughout the year 2020, as measured by the average median AQIs across all counties for a single state. Your result should have index `state`, the column value should be labelled `Average Median AQI`, and it should be arranged in descending order.\n",
    "\n",
    "Now, assign the same thing to `worst_max_aqis`, except instead of aggregating the average median AQIs across all counties, aggregate the average **max AQIs** across all counties. Your result should have the same shape and labels as before, except the column value should be labelled `Average Max AQI`. \n",
    "\n",
    "Note: you may have to remove a few regions in your tables. Make sure every entry in your output is a **US State**.\n",
    "\n",
    "<!--\n",
    "BEGIN QUESTION\n",
    "name: q3a\n",
    "points: 2\n",
    "-->"
   ]
  },
  {
   "cell_type": "code",
   "execution_count": 16,
   "id": "61aac8a2",
   "metadata": {},
   "outputs": [
    {
     "name": "stdout",
     "output_type": "stream",
     "text": [
      "Worst Median AQI : \n",
      "State\n",
      "California       48.018868\n",
      "Arizona          47.307692\n",
      "Utah             41.066667\n",
      "Connecticut      39.125000\n",
      "Delaware         38.000000\n",
      "Mississippi      37.200000\n",
      "New Jersey       36.937500\n",
      "Massachusetts    36.538462\n",
      "Nevada           36.222222\n",
      "Pennsylvania     35.756098\n",
      "Name: Median AQI, dtype: float64\n",
      "\n",
      "Worst Max AQI : \n",
      "State\n",
      "Oregon          430.347826\n",
      "Washington      334.419355\n",
      "California      286.981132\n",
      "Arizona         238.230769\n",
      "Idaho           197.857143\n",
      "Wyoming         196.666667\n",
      "Nevada          196.666667\n",
      "Montana         137.421053\n",
      "Rhode Island    133.000000\n",
      "Connecticut     124.750000\n",
      "Name: Max AQI, dtype: float64\n"
     ]
    },
    {
     "data": {
      "text/plain": [
       "State\n",
       "California       48.018868\n",
       "Arizona          47.307692\n",
       "Utah             41.066667\n",
       "Connecticut      39.125000\n",
       "Delaware         38.000000\n",
       "Mississippi      37.200000\n",
       "New Jersey       36.937500\n",
       "Massachusetts    36.538462\n",
       "Nevada           36.222222\n",
       "Pennsylvania     35.756098\n",
       "Name: Median AQI, dtype: float64"
      ]
     },
     "execution_count": 16,
     "metadata": {},
     "output_type": "execute_result"
    }
   ],
   "source": [
    "worst_median_aqis = epa_data.get('annual_county_aqi').groupby(\"State\")[\"Median AQI\"].mean().sort_values(ascending = False).to_frame()\n",
    "worst_median_aqis.drop([\"Country Of Mexico\", \"District Of Columbia\", \"Virgin Islands\", \"Puerto Rico\"], inplace = True)\n",
    "worst_median_aqis = worst_median_aqis.squeeze()[:10]\n",
    "\n",
    "worst_max_aqis = epa_data.get('annual_county_aqi').groupby(\"State\")[\"Max AQI\"].mean().sort_values(ascending = False).to_frame()\n",
    "worst_max_aqis.drop([\"Country Of Mexico\", \"District Of Columbia\", \"Virgin Islands\", \"Puerto Rico\"], inplace = True)\n",
    "worst_max_aqis = worst_max_aqis.squeeze()[:10]\n",
    "\n",
    "print(\"Worst Median AQI : \\n{}\\n\".format(worst_median_aqis))\n",
    "print(\"Worst Max AQI : \\n{}\".format(worst_max_aqis))\n",
    "\n",
    "np.round(list(worst_max_aqis), 2)\n",
    "worst_median_aqis"
   ]
  },
  {
   "cell_type": "code",
   "execution_count": 17,
   "id": "308f7328",
   "metadata": {
    "deletable": false,
    "editable": false
   },
   "outputs": [
    {
     "data": {
      "text/html": [
       "<p><strong><pre style='display: inline;'>q3a</pre></strong> passed!</p>"
      ],
      "text/plain": [
       "q3a results: All test cases passed!"
      ]
     },
     "execution_count": 17,
     "metadata": {},
     "output_type": "execute_result"
    }
   ],
   "source": [
    "grader.check(\"q3a\")"
   ]
  },
  {
   "attachments": {},
   "cell_type": "markdown",
   "id": "2ed7af0d",
   "metadata": {
    "deletable": false,
    "editable": false,
    "tags": []
   },
   "source": [
    "<!-- BEGIN QUESTION -->\n",
    "\n",
    "<br/>\n",
    "\n",
    "### Question 3b: Worst AQI States\n",
    "\n",
    "What are the states that are in both of the top 10 lists? Why do you think most of these states are on both of the lists?\n",
    "\n",
    "<!--\n",
    "BEGIN QUESTION\n",
    "name: q3b\n",
    "manual: True\n",
    "points: 2\n",
    "-->"
   ]
  },
  {
   "attachments": {},
   "cell_type": "markdown",
   "id": "5afe8e40",
   "metadata": {},
   "source": [
    "California, Arizona, Connecticut, and Nevada are the states that appear in both of the top 10 lists. Most of these states are on both of these lists as a result of high emissions by automobiles and factories, as well as emissions from forest fires."
   ]
  },
  {
   "attachments": {},
   "cell_type": "markdown",
   "id": "129b9ef4",
   "metadata": {
    "deletable": false,
    "editable": false
   },
   "source": [
    "<!-- END QUESTION -->\n",
    "\n",
    "<br/>\n",
    "\n",
    "### Question 4a: Missing AQI Data\n",
    "\n",
    "We want to see the accessibility of the AQI data across states. In the following cell, assign `days_with_AQI` to a series that contains the state as the index and the average number of days with AQI entries across all counties in that state as the value. Make sure to label the series as `Days with AQI` and sort in ascending order (smallest average number of days at the top). As before, make sure to remove the regions that are not **US States** from your series.\n",
    "\n",
    "<!--\n",
    "BEGIN QUESTION\n",
    "name: q4a\n",
    "points: 2\n",
    "-->"
   ]
  },
  {
   "cell_type": "code",
   "execution_count": 18,
   "id": "200bab31",
   "metadata": {},
   "outputs": [
    {
     "data": {
      "text/plain": [
       "State\n",
       "Alaska        235.222222\n",
       "Arkansas      251.545455\n",
       "New Mexico    264.062500\n",
       "Virginia      265.303030\n",
       "Colorado      278.892857\n",
       "Name: Days with AQI, dtype: float64"
      ]
     },
     "execution_count": 18,
     "metadata": {},
     "output_type": "execute_result"
    }
   ],
   "source": [
    "days_with_AQI = epa_data.get('annual_county_aqi').groupby(\"State\")[\"Days with AQI\"].mean().sort_values(ascending = True)\n",
    "days_with_AQI.drop([\"Country Of Mexico\", \"District Of Columbia\", \"Virgin Islands\", \"Puerto Rico\"], inplace = True)\n",
    "\n",
    "days_with_AQI.head()"
   ]
  },
  {
   "cell_type": "code",
   "execution_count": 19,
   "id": "c7982396",
   "metadata": {
    "deletable": false,
    "editable": false
   },
   "outputs": [
    {
     "data": {
      "text/html": [
       "<p><strong><pre style='display: inline;'>q4a</pre></strong> passed!</p>"
      ],
      "text/plain": [
       "q4a results: All test cases passed!"
      ]
     },
     "execution_count": 19,
     "metadata": {},
     "output_type": "execute_result"
    }
   ],
   "source": [
    "grader.check(\"q4a\")"
   ]
  },
  {
   "attachments": {},
   "cell_type": "markdown",
   "id": "77eeaccc",
   "metadata": {},
   "source": [
    "<br/>\n",
    "\n",
    "### Question 4b: What are the missing dates?\n",
    "\n",
    "In the following cell, we create the series `ca_aqi_days` that outputs a series with each county in California mapped to the number of days that they have AQI data on. Notice that there exists a few counties without the full year of data, which is what you will be taking a closer look at in the following two parts."
   ]
  },
  {
   "cell_type": "code",
   "execution_count": 20,
   "id": "9442b8cb",
   "metadata": {},
   "outputs": [
    {
     "data": {
      "text/plain": [
       "54    274\n",
       "96    331\n",
       "63    351\n",
       "98    353\n",
       "49    359\n",
       "76    360\n",
       "51    364\n",
       "57    364\n",
       "72    365\n",
       "79    366\n",
       "Name: Days with AQI, dtype: int64"
      ]
     },
     "execution_count": 20,
     "metadata": {},
     "output_type": "execute_result"
    }
   ],
   "source": [
    "ca_annual_data = epa_data.get('annual_county_aqi')[epa_data.get('annual_county_aqi')['State'] == 'California']\n",
    "ca_aqi_days = ca_annual_data['Days with AQI'].sort_values()\n",
    "ca_aqi_days.head(10)"
   ]
  },
  {
   "attachments": {},
   "cell_type": "markdown",
   "id": "792d52bc",
   "metadata": {
    "deletable": false,
    "editable": false
   },
   "source": [
    "#### Question 4bi: Missing Days\n",
    "\n",
    "Assign `county_to_missing_dates` to a dictionary that maps each county with less than the full year of data to the dates that have missing AQI data. Make sure that your keys are just the county name (no whitespace around it or `, California` appended to it) and the values are of the format `yyyy-mm-dd`.\n",
    "\n",
    "<!--\n",
    "BEGIN QUESTION\n",
    "name: q4i\n",
    "points: 2\n",
    "-->"
   ]
  },
  {
   "cell_type": "code",
   "execution_count": 21,
   "id": "6c64da0f",
   "metadata": {},
   "outputs": [],
   "source": [
    "daily_county = epa_data.get('daily_county_aqi')\n",
    "daily_county_ca = daily_county[daily_county['State Name']=='California']\n",
    "\n",
    "county_to_missing_dates = {}\n",
    "missing_df = ca_annual_data[ca_annual_data['Days with AQI'] <= 365]\n",
    "missing_counties = list(missing_df['County'].unique())\n",
    "\n",
    "\n",
    "for county in missing_counties:\n",
    "    missing_dates = daily_county_ca[daily_county_ca['county Name']=='Yolo']['Date'].isin(daily_county_ca[daily_county_ca['county Name']==county]['Date'])\n",
    "    county_to_missing_dates[county] = daily_county_ca[daily_county_ca['county Name']=='Yolo']['Date'][~missing_dates].values.tolist()"
   ]
  },
  {
   "cell_type": "code",
   "execution_count": 22,
   "id": "e2470372",
   "metadata": {
    "deletable": false,
    "editable": false
   },
   "outputs": [
    {
     "data": {
      "text/html": [
       "<p><strong><pre style='display: inline;'>q4i</pre></strong> passed!</p>"
      ],
      "text/plain": [
       "q4i results: All test cases passed!"
      ]
     },
     "execution_count": 22,
     "metadata": {},
     "output_type": "execute_result"
    }
   ],
   "source": [
    "grader.check(\"q4i\")"
   ]
  },
  {
   "attachments": {},
   "cell_type": "markdown",
   "id": "ff49cc54",
   "metadata": {
    "deletable": false,
    "editable": false
   },
   "source": [
    "<!-- BEGIN QUESTION -->\n",
    "\n",
    "#### Question 4bii: Missing Days\n",
    "\n",
    "Are there any key missing dates in common between the counties that have missing AQI data? What two counties have the most missing days and why do you think they do?\n",
    "\n",
    "<!--\n",
    "BEGIN QUESTION\n",
    "name: q4bii\n",
    "manual: True\n",
    "points: 2\n",
    "-->"
   ]
  },
  {
   "attachments": {},
   "cell_type": "markdown",
   "id": "07c6c60a",
   "metadata": {},
   "source": [
    "_Type your answer here, replacing this text._"
   ]
  },
  {
   "attachments": {},
   "cell_type": "markdown",
   "id": "fbbc718f",
   "metadata": {},
   "source": [
    "<!-- END QUESTION -->\n",
    "\n",
    "\n",
    "\n",
    "<br/>\n",
    "\n",
    "### Question 5a: AQI over Time "
   ]
  },
  {
   "attachments": {},
   "cell_type": "markdown",
   "id": "aeeba668",
   "metadata": {
    "deletable": false,
    "editable": false
   },
   "source": [
    "Assign `aqi_per_month` to a series of the average aqi per month across all US states and `aqi_per_month_CA` to a series of the average AQI per month across California.\n",
    "\n",
    "<!--\n",
    "BEGIN QUESTION\n",
    "name: q5a\n",
    "points: 1\n",
    "-->"
   ]
  },
  {
   "cell_type": "code",
   "execution_count": 23,
   "id": "a243c2dc",
   "metadata": {},
   "outputs": [
    {
     "name": "stdout",
     "output_type": "stream",
     "text": [
      "AQI per Month: \n",
      "Month\n",
      "1     31.032050\n",
      "2     32.258621\n",
      "3     34.509181\n",
      "4     37.287264\n",
      "5     36.273464\n",
      "6     40.533681\n",
      "7     40.070404\n",
      "8     41.252281\n",
      "9     43.290611\n",
      "10    35.285558\n",
      "11    34.184020\n",
      "12    34.990632\n",
      "Name: AQI, dtype: float64\n",
      "\n",
      "AQI per Month California : \n",
      "Month\n",
      "1      46.346888\n",
      "2      47.110236\n",
      "3      40.114094\n",
      "4      41.443462\n",
      "5      49.538319\n",
      "6      47.996146\n",
      "7      56.069375\n",
      "8      79.960220\n",
      "9     107.020228\n",
      "10     75.491763\n",
      "11     52.070573\n",
      "12     53.645516\n",
      "Name: AQI, dtype: float64\n"
     ]
    }
   ],
   "source": [
    "aqi_per_month = daily_county.groupby('Month').agg('mean')['AQI']\n",
    "aqi_per_month_CA = daily_county[daily_county['State Name']=='California'].groupby('Month').agg('mean')['AQI']\n",
    "\n",
    "\n",
    "print(\"AQI per Month: \\n{}\\n\".format(aqi_per_month))\n",
    "print(\"AQI per Month California : \\n{}\".format(aqi_per_month_CA))"
   ]
  },
  {
   "cell_type": "code",
   "execution_count": 24,
   "id": "c03e76e1",
   "metadata": {
    "deletable": false,
    "editable": false
   },
   "outputs": [
    {
     "data": {
      "text/html": [
       "<p><strong><pre style='display: inline;'>q5a</pre></strong> passed!</p>"
      ],
      "text/plain": [
       "q5a results: All test cases passed!"
      ]
     },
     "execution_count": 24,
     "metadata": {},
     "output_type": "execute_result"
    }
   ],
   "source": [
    "grader.check(\"q5a\")"
   ]
  },
  {
   "attachments": {},
   "cell_type": "markdown",
   "id": "738baa95",
   "metadata": {
    "deletable": false,
    "editable": false
   },
   "source": [
    "<!-- BEGIN QUESTION -->\n",
    "\n",
    "<br/>\n",
    "\n",
    "### Question 5b: AQI over Time Analysis \n",
    "\n",
    "Is there anything interesting that you notice in `aqi_per_month_CA`? If so, why do you think that is?\n",
    "\n",
    "<!--\n",
    "BEGIN QUESTION\n",
    "name: q5b\n",
    "manual: True\n",
    "points: 1\n",
    "-->"
   ]
  },
  {
   "attachments": {},
   "cell_type": "markdown",
   "id": "bf8fcea7",
   "metadata": {},
   "source": [
    "While the average AQI remains relatively constant throughout most of the year, it dramatically spikes during the months of August, September, and October. This is likely because wildfire season typically peaks during these months, causing a significantly higher average AQI."
   ]
  },
  {
   "attachments": {},
   "cell_type": "markdown",
   "id": "e939efa5",
   "metadata": {
    "deletable": false,
    "editable": false
   },
   "source": [
    "<!-- END QUESTION -->\n",
    "\n",
    "<!-- BEGIN QUESTION -->\n",
    "\n",
    "<br/>\n",
    "\n",
    "### Question 5c: Modeling AQI over Time\n",
    "\n",
    "Based on the AQI pattern in the year 2020, if we were to model AQI over the last 10 years, with the average AQI per year being the same, what sort of parametric function $f(x)$ would you use? Let us say that we see a linear increase in the average AQI per year over the last 10 years instead, then what parametric function $g(x)$ would you use?\n",
    "\n",
    "<!--\n",
    "BEGIN QUESTION\n",
    "name: q5c\n",
    "manual: True\n",
    "points: 3\n",
    "-->"
   ]
  },
  {
   "attachments": {},
   "cell_type": "markdown",
   "id": "44e24030",
   "metadata": {},
   "source": [
    "Since there is an increase followed by a decrease in AQI, it can be modeled using a sinusoidal curve. For a linear increase, we add the sine curve to a linear function representing the linear increase, which will result in an increase for all AQI values."
   ]
  },
  {
   "attachments": {},
   "cell_type": "markdown",
   "id": "389dc921",
   "metadata": {},
   "source": [
    "<!-- END QUESTION -->\n",
    "\n",
    "\n",
    "\n",
    "<br/>\n",
    "\n",
    "### Question 6a: Create Heatmap Buckets\n",
    "\n",
    "Now we want to create a function called `bucket_data`, which takes in the following parameters: `table`, `resolution`. It outputs a pivot table with the latitude bucket (smallest latitude for that grid point) on the index and the longitude bucket (smallest longitude for that grid point) on the columns. The values in the pivot table should be the average AQI of the monitor sites inside that respective rectangle grid of latitudes and longitudes. The following should be the output of `bucket_data(epa_data_CA_merged, np.mean, 5)`:\n",
    "\n",
    "<img src=\"images/q6a.png\" width=\"600px\" align=\"center\"/>"
   ]
  },
  {
   "attachments": {},
   "cell_type": "markdown",
   "id": "65b89123",
   "metadata": {
    "deletable": false,
    "editable": false
   },
   "source": [
    "The `resolution` parameter describes the number of buckets that the latitudes and longitudes are divided into on the heatmap. As an example, let us say that the range of longitudes for site monitors are between \\[100, 110\\]; make sure that the start of the range is exactly the **minimum** of all longitude values of your site monitors and the end of the range is the exactly the **maximum** of all longitude values of your site monitors. Let us say that we have a resolution of 10. Then we have the buckets \n",
    "$$([100, 101], [101, 102], ..., [109, 110])$$\n",
    "\n",
    "The column and row labels of this dataframe should be labelled as the **start** of the bucket. In the case of the example above, the names of the buckets should be $ 100, 101, \\dots 109 $. Note that we are just looking at the longitude dimension in this example, and you have to do do the same for the latitude dimension along the rows in order to build the pivot table.\n",
    "\n",
    "Finally, make sure the row and column labels of your pivot table are **exactly** the same as the example given above. \n",
    "<!--\n",
    "BEGIN QUESTION\n",
    "name: q6a\n",
    "points: 6\n",
    "-->"
   ]
  },
  {
   "cell_type": "code",
   "execution_count": 25,
   "id": "7c0eb71f",
   "metadata": {},
   "outputs": [
    {
     "data": {
      "text/plain": [
       "True"
      ]
     },
     "execution_count": 25,
     "metadata": {},
     "output_type": "execute_result"
    }
   ],
   "source": [
    "#solution given by staff\n",
    "def bucket_data(table, aggfunc, resolution):\n",
    "    table = table.copy()\n",
    "    \n",
    "    long_buckets = np.sort(np.linspace(table['Longitude'].min(), table['Longitude'].max(), num=resolution, endpoint=False))\n",
    "    lat_buckets = np.sort(np.linspace(table['Latitude'].min(), table['Latitude'].max(), num=resolution, endpoint=False))    \n",
    "    \n",
    "    long_buckets_map = dict(list(zip(long_buckets, np.around(long_buckets, decimals=2))))\n",
    "    lat_buckets_map = dict(list(zip(lat_buckets, np.around(lat_buckets, decimals=2))))\n",
    "    \n",
    "    get_lat_bucket_num = lambda loc: lat_buckets_map.get(lat_buckets[lat_buckets <= loc].max())\n",
    "    get_long_bucket_num = lambda loc: long_buckets_map.get(long_buckets[long_buckets <= loc].max())\n",
    "\n",
    "    table['lat_bucket'] = table['Latitude'].apply(get_lat_bucket_num)\n",
    "    table['long_bucket'] = table['Longitude'].apply(get_long_bucket_num)\n",
    "\n",
    "    pivot_cols = ['lat_bucket', 'long_bucket', 'AQI']\n",
    "    return pd.pivot_table(table[pivot_cols], index='lat_bucket', columns='long_bucket', aggfunc = aggfunc)\n",
    "\n",
    "bucket_data(epa_data_CA_merged, np.mean, 5)\n",
    "\n",
    "# UPDATED TEST, must pass only this test. They will update autograder after Tuesday midnight\n",
    "np.round(bucket_data(epa_data_CA_merged, np.median, 5).iloc[:,0].loc[36.25], 2) == 36"
   ]
  },
  {
   "cell_type": "code",
   "execution_count": 26,
   "id": "4b097507",
   "metadata": {
    "deletable": false,
    "editable": false
   },
   "outputs": [
    {
     "data": {
      "text/html": [
       "<p><strong><pre style='display: inline;'>q6a</pre></strong> passed!</p>"
      ],
      "text/plain": [
       "q6a results: All test cases passed!"
      ]
     },
     "execution_count": 26,
     "metadata": {},
     "output_type": "execute_result"
    }
   ],
   "source": [
    "grader.check(\"q6a\")"
   ]
  },
  {
   "attachments": {},
   "cell_type": "markdown",
   "id": "39ec7023",
   "metadata": {
    "deletable": false,
    "editable": false
   },
   "source": [
    "<br/>\n",
    "\n",
    "### Question 6b: Visualize Heatmap\n",
    "\n",
    "Assign `heatmap_data` to a heatmap bucket pivot table aggregated by median with resolution 30 for California AQI for the month of september. The code in the following cell will plot this heatmap for you. \n",
    "\n",
    "<!--\n",
    "BEGIN QUESTION\n",
    "name: q6b\n",
    "points: 1\n",
    "-->"
   ]
  },
  {
   "cell_type": "code",
   "execution_count": 27,
   "id": "80dddafb",
   "metadata": {},
   "outputs": [
    {
     "data": {
      "image/png": "[encoded data removed]",
      "text/plain": [
       "<Figure size 1080x576 with 2 Axes>"
      ]
     },
     "metadata": {
      "needs_background": "light"
     },
     "output_type": "display_data"
    }
   ],
   "source": [
    "heatmap_data = bucket_data(epa_data_CA_merged[epa_data_CA_merged['Month'] == 9], 'median', 30)\n",
    "\n",
    "#create visualization\n",
    "plt.figure(figsize=(15, 8))\n",
    "ax = sns.heatmap(heatmap_data, vmin=0, vmax=230, cmap = sns.cm.rocket_r)\n",
    "ax.invert_yaxis()\n",
    "plt.show()"
   ]
  },
  {
   "cell_type": "code",
   "execution_count": 28,
   "id": "f26c7478",
   "metadata": {
    "deletable": false,
    "editable": false
   },
   "outputs": [
    {
     "data": {
      "text/html": [
       "<p><strong><pre style='display: inline;'>q6b</pre></strong> passed!</p>"
      ],
      "text/plain": [
       "q6b results: All test cases passed!"
      ]
     },
     "execution_count": 28,
     "metadata": {},
     "output_type": "execute_result"
    }
   ],
   "source": [
    "grader.check(\"q6b\")"
   ]
  },
  {
   "attachments": {},
   "cell_type": "markdown",
   "id": "dfc1c343",
   "metadata": {
    "deletable": false,
    "editable": false
   },
   "source": [
    "<!-- BEGIN QUESTION -->\n",
    "\n",
    "<br/>\n",
    "\n",
    "### Question 6c: Analyze Heatmap\n",
    "\n",
    "Look up where the dark regions correspond to. Does this heatmap make sense?\n",
    "\n",
    "<!--\n",
    "BEGIN QUESTION\n",
    "name: q6c\n",
    "manual: True\n",
    "points: 2\n",
    "-->"
   ]
  },
  {
   "attachments": {},
   "cell_type": "markdown",
   "id": "1338999e",
   "metadata": {},
   "source": [
    "Yes, this heatmap makes sense. Some of the darkest regions correspond to places such as Death Valley National Park, Joshua Tree National Park, and Los Angeles. It makes sense that these regions are the darkest on the heatmap because they have a higher occurrence of forest fires."
   ]
  },
  {
   "attachments": {},
   "cell_type": "markdown",
   "id": "bb9e18aa",
   "metadata": {},
   "source": [
    "<!-- END QUESTION -->\n",
    "\n",
    "\n",
    "\n",
    "<br/><br/>\n",
    "\n",
    "---\n",
    "## Part 3: Open-Ended EDA\n",
    "\n",
    "Not that we have explored the data both spatially and temporally, we want to be able to look at what other indicators there are for air quality in California. Through the previous few questions we have discussed that wilfire data as well as temperature may be good indicators, but we can explitly look at correlations via the temperature to verify our hypothesis. Like temperature, there are other columns of data such as particulate matter, chemical concentrations, wind data, etc. Your open-ended EDA will be useful for filling in missing points in the heatmap that you created in question 4b. \n",
    "\n",
    "Your goal in this question is to find relationships between AQI and other features in the current datasets, across time and space. Your exploration can include, but is not limited to: \n",
    "- Looking at correlations between AQI and various columns of interest in `epa_data_CA`.\n",
    "    - This will require some merging, which you can look at question 1 for reference. \n",
    "- Performing clustering and/or other unsupervised learning methods such as PCA to discover clusters or useful (combinations of) features in the data.\n",
    "- Merging and exploring other external datasets that you may think are useful."
   ]
  },
  {
   "attachments": {},
   "cell_type": "markdown",
   "id": "af361520",
   "metadata": {
    "deletable": false,
    "editable": false
   },
   "source": [
    "<!-- BEGIN QUESTION -->\n",
    "\n",
    "### Question 7a - Code and Analysis\n",
    "\n",
    "Please complete all of your analysis in the **single cell** below based on the prompt above.\n",
    "\n",
    "<!--\n",
    "BEGIN QUESTION\n",
    "name: q7a\n",
    "manual: True\n",
    "points: 10\n",
    "-->"
   ]
  },
  {
   "cell_type": "code",
   "execution_count": 29,
   "id": "d584c43f",
   "metadata": {},
   "outputs": [],
   "source": [
    "# visualization #1\n",
    "def bucket_data_temp(table, aggfunc, resolution):\n",
    "    '''Create heatmap for SO2 Observation Percent'''\n",
    "    long_buckets = np.sort(np.linspace(table['Longitude'].min(), table['Longitude'].max(), num=resolution, endpoint=False))\n",
    "    lat_buckets = np.sort(np.linspace(table['Latitude'].min(), table['Latitude'].max(), num=resolution, endpoint=False))    \n",
    "    \n",
    "    long_buckets_map = dict(list(zip(long_buckets, np.around(long_buckets, decimals=2))))\n",
    "    lat_buckets_map = dict(list(zip(lat_buckets, np.around(lat_buckets, decimals=2))))\n",
    "    \n",
    "    get_lat_bucket_num = lambda loc: lat_buckets_map.get(lat_buckets[lat_buckets <= loc].max())\n",
    "    get_long_bucket_num = lambda loc: long_buckets_map.get(long_buckets[long_buckets <= loc].max())\n",
    "\n",
    "    table['lat_bucket'] = table['Latitude'].apply(get_lat_bucket_num)\n",
    "    table['long_bucket'] = table['Longitude'].apply(get_long_bucket_num)\n",
    "\n",
    "    pivot_cols = ['lat_bucket', 'long_bucket', 'Arithmetic Mean']\n",
    "    return pd.pivot_table(table[pivot_cols], index='lat_bucket', columns='long_bucket', aggfunc = aggfunc)\n",
    "\n",
    "daily_temp = epa_data.get('daily_wind') #wind data is actually the temp data\n",
    "heatmap_temp_data = bucket_data_temp(daily_temp[daily_temp['State Name'] == 'California'], 'mean', 90)\n",
    "\n",
    "\n",
    "# visualization #2\n",
    "daily_no2 = epa_data.get('daily_no2')[epa_data.get('daily_no2')[\"State Name\"] == \"California\"]\n",
    "daily_no2 = daily_no2[daily_no2['City Name'] == 'Los Angeles']\n",
    "daily_so2 = epa_data.get('daily_so2')[epa_data.get('daily_so2')[\"State Name\"] == \"California\"]\n",
    "daily_so2 = daily_so2[daily_so2['City Name'] == 'Los Angeles']\n",
    "\n",
    "chemicals = daily_no2.merge(daily_so2, on = [\"Site Num\", \"County Code\"], how = \"inner\")\n",
    "chemicals.rename(columns = {\"Observation Percent_x\": \"NO2 Observation Percent\", \"Observation Percent_y\": \"SO2 Observation Percent\", \"AQI_x\": \"AQI\"}, inplace = True)\n",
    "keep_cols = ['NO2 Observation Percent', 'SO2 Observation Percent', 'AQI']\n",
    "chemicals = chemicals[keep_cols]"
   ]
  },
  {
   "attachments": {},
   "cell_type": "markdown",
   "id": "e40a68bb",
   "metadata": {
    "deletable": false,
    "editable": false
   },
   "source": [
    "<!-- END QUESTION -->\n",
    "\n",
    "<!-- BEGIN QUESTION -->\n",
    "\n",
    "<br/>\n",
    "\n",
    "### Question 7b - Visualization\n",
    "\n",
    "Please create **two** visualizations to summarize your analysis above. The only restrictions are that these visualizations **cannot** simply be scatterplots between two features in the dataset(s) and **cannot** be of the same type (dont make two bar graphs, for example). \n",
    "\n",
    "<!--\n",
    "BEGIN QUESTION\n",
    "name: q7b\n",
    "manual: True\n",
    "points: 4\n",
    "-->"
   ]
  },
  {
   "cell_type": "code",
   "execution_count": 30,
   "id": "3f94c859",
   "metadata": {},
   "outputs": [
    {
     "data": {
      "image/png": "[encoded data removed]",
      "text/plain": [
       "<Figure size 1080x576 with 2 Axes>"
      ]
     },
     "metadata": {
      "needs_background": "light"
     },
     "output_type": "display_data"
    }
   ],
   "source": [
    "# visualization #1\n",
    "plt.figure(figsize=(15, 8))\n",
    "ax = sns.heatmap(heatmap_temp_data, vmin=50, vmax=80, cmap = 'flare')\n",
    "ax.invert_yaxis()\n",
    "plt.xlabel('Longitude')\n",
    "plt.ylabel('Latitude')\n",
    "plt.title('Heatmap of Mean Temperature (Fahrenheit) across California')\n",
    "plt.show()"
   ]
  },
  {
   "cell_type": "code",
   "execution_count": 31,
   "id": "8aabae81-e7c4-4620-a951-cada37aa3af0",
   "metadata": {},
   "outputs": [
    {
     "data": {
      "image/png": "[encoded data removed]",
      "text/plain": [
       "<Figure size 960x640 with 2 Axes>"
      ]
     },
     "metadata": {
      "needs_background": "light"
     },
     "output_type": "display_data"
    }
   ],
   "source": [
    "# visualization #2\n",
    "from matplotlib.pyplot import figure\n",
    "figure(figsize=(12, 8), dpi=80)\n",
    "\n",
    "jitter_x = np.random.randint(4, size=len(chemicals))\n",
    "jitter_y = np.random.randint(4, size=len(chemicals))\n",
    "\n",
    "plt.scatter(chemicals['NO2 Observation Percent']+jitter_x, chemicals['SO2 Observation Percent']+jitter_y, c = chemicals['AQI'], cmap='Wistia', s = 2);\n",
    "plt.xlabel('NO2 Observation Percent (%)')\n",
    "plt.ylabel('SO2 Observation Percent (%)')\n",
    "color_bar = plt.colorbar();\n",
    "color_bar.set_label('AQI');\n",
    "plt.title('Nitrogen Dioxide and Sulfure Dioxide in relation to AQI in Los Angeles');"
   ]
  },
  {
   "attachments": {},
   "cell_type": "markdown",
   "id": "331e4060",
   "metadata": {
    "deletable": false,
    "editable": false
   },
   "source": [
    "<!-- END QUESTION -->\n",
    "\n",
    "<!-- BEGIN QUESTION -->\n",
    "\n",
    "<br/>\n",
    "\n",
    "### Question 7c - Summary\n",
    "\n",
    "In a paragraph, summarize the your findings and visualizations and explain how they will be useful for predicting AQI. Make sure that your answer is thoughtful and detailed in that it describes what you did and how you reached your conclusion. \n",
    "\n",
    "<!--\n",
    "BEGIN QUESTION\n",
    "name: q7c\n",
    "manual: True\n",
    "points: 4\n",
    "-->"
   ]
  },
  {
   "attachments": {},
   "cell_type": "markdown",
   "id": "540a0fb7",
   "metadata": {},
   "source": [
    "For our first visualization, we were interested in whether regions with high temperatures align with the same areas that have high AQI from Question 6b. We were interested in this connection because high atmospheric temperatures are generally the result of the burning of fossil fuels, which can worsen air quality—particularly in communities with high vehicular use. We decided to use a heatmap to analyze temperature so that we can geospatially compare regions with high temperature to those with high AQI. \n",
    "\n",
    "\n",
    "Upon comparing our heatmap with that of Question 6b, it appears that the same areas with high AQI also have high temperatures. This Exploratory Data Analysis will be helpful for predicting AQI because we can now consider observed percent temperature as an important data feature in the prediction of AQI. \n",
    "\n",
    "\n",
    "For our second visualization, we wanted to explore how gases commonly connected to wildfires relate to AQI in Los Angeles—a city whose air quality is typically affected by wildfire smoke. Two gases that are emitted during wildfires include Nitrogen Dioxide and Sulfur Dioxide (https://www.nationalgeographic.com/science/article/how-breathing-wildfire-smoke-affects-the-body).  To observe how each of these gases relate to AQI in LA, we plotted a scatterplot of each gas and AQI shown through color. To avoid overplotting, we jittered the data. \n",
    "\n",
    "From the scatterplot, we saw that the highest AQI values are observed when NO2 and SO2 are highest, and the lowest AQI values occur when observed NO2 and SO2 are the lowest. This Exploratory Data Analysis will be helpful for predicting AQI because we can consider observed NO2 and SO2 as important data features in the prediction of AQI, as seen in Los Angeles."
   ]
  },
  {
   "attachments": {},
   "cell_type": "markdown",
   "id": "7bed937a",
   "metadata": {},
   "source": [
    "<!-- END QUESTION -->\n",
    "\n",
    "\n",
    "\n",
    "<br/><br/>\n",
    "\n",
    "---\n",
    "## Part 4: Guided Modeling\n",
    "\n",
    "For this part, we will be looking at some open-ended modeling approaches to answering the question of predicting AQI given a location and a date. \n",
    "\n",
    "### Question 8 - Interpolation\n",
    "\n",
    "For this part, we will be using a simple interpolation to find the missing grid values for AQI on the heatmap visualization that you produced in part 1. Simple linear interpolation just takes the locations' values and averages them to produce an estimate of the current location. Though this is not as predictive (we are not predicting based on features about the location itself), it will give you a sense of the task at hand for the remainder of the project. \n",
    "\n",
    "As a reminder, the heatmap produced after running the cell below is the one you produced for question 6b when creating a visualization for the AQI in California for the month of september. It produces white spaces where there exist `NaN` values in the pivot table. "
   ]
  },
  {
   "cell_type": "code",
   "execution_count": 32,
   "id": "61fe3c84",
   "metadata": {},
   "outputs": [
    {
     "data": {
      "image/png": "[encoded data removed]",
      "text/plain": [
       "<Figure size 1080x576 with 2 Axes>"
      ]
     },
     "metadata": {
      "needs_background": "light"
     },
     "output_type": "display_data"
    }
   ],
   "source": [
    "table_sep = epa_data_CA_merged[epa_data_CA_merged['Month'] == 9]\n",
    "heatmap_data = bucket_data(table_sep, np.median, 25)\n",
    "\n",
    "plt.figure(figsize=(15, 8))\n",
    "ax = sns.heatmap(heatmap_data, vmin=0, vmax=230, cmap = sns.cm.rocket_r)\n",
    "ax.invert_yaxis()\n",
    "plt.show()"
   ]
  },
  {
   "attachments": {},
   "cell_type": "markdown",
   "id": "518c3a87",
   "metadata": {
    "deletable": false,
    "editable": false
   },
   "source": [
    "<br/>\n",
    "\n",
    "### Question 8a - Simple Linear Interpolation\n",
    "As previously mentioned, interpolation is a technique that is used to predict labels in a dataset by forming a model out of the data that is already labelled. In this case, we have a pivot table that we use to create a heatmap, but there contains many `NaN` values that we want to fill in. \n",
    "\n",
    "- Create the function `fill_bucket` that takes in the following parameters:\n",
    "    - `pivot_table`: the pivot table that we are providing. \n",
    "    - `lat_bucket`: the bucket number that the latitude is in, indexed by zero. ex. if there are 25 buckets, they are numbered $ 0, 2, \\dots 24 $, from lowest to highest value latitudes. \n",
    "    - `lon_bucket`: the bucket number that the longitude is in, indexed by zero. ex. if there are 25 buckets, they are numbered $ 0, 2, \\dots 24 $. from lowest to highest value longitudes.\n",
    "    \n",
    "- In the pivot table, every value has cells above (A cells), cells below (B cells), cells to the left (L cells), and cells to the right (R cells). We will say that a direction (R for example) is valid if and only if there exists a cell **anywhere** to its right that is not `NaN`. The closest such cell will be called the \"closest R cell\". The same goes for the rest of the directions. For the cases below, assuming that our current cell is called cell K. \n",
    "    - If cell K is not `NaN`, then simply return the AQI at that given cell.\n",
    "    - **Only** if there are **at least** three valid directional cells (ex. has A, B, and L valid but not R valid), we will call K *interpolable*. If K is *interpolable*, then interpolate K by assigning it an AQI value equal to the average of the closest cell AQIs in each of the valid directions. \n",
    "    - If K is *not interpolable*, then do not do anything and simply return `NaN`.\n",
    "- The return value of `fill_bucket` should be the the value assigned to K. **DO NOT** mutate the cell K in the pivot table yet.\n",
    "\n",
    "<!--\n",
    "BEGIN QUESTION\n",
    "name: q8a\n",
    "points: 6\n",
    "-->"
   ]
  },
  {
   "cell_type": "code",
   "execution_count": 33,
   "id": "dd43b812",
   "metadata": {},
   "outputs": [],
   "source": [
    "def fill_bucket(pivot_table, lat_bucket, lon_bucket):\n",
    "    # left\n",
    "    left = False\n",
    "    closest_left = np.nan\n",
    "    if lon_bucket != 0:\n",
    "        # left = pd.isna(pivot_table.iloc[lat_bucket, lon_bucket])\n",
    "        left = pivot_table.iloc[lat_bucket, :lon_bucket].dropna().any()\n",
    "        if left:\n",
    "            closest_left = pivot_table.iloc[lat_bucket, :lon_bucket].dropna().iloc[-1]\n",
    "    \n",
    "    # down\n",
    "    down = False\n",
    "    closest_down = np.nan\n",
    "    if lat_bucket != pivot_table.shape[0]-1: \n",
    "        down = pivot_table.iloc[lat_bucket+1:, lon_bucket].dropna().any()\n",
    "        \n",
    "        if down:\n",
    "            closest_down = pivot_table.iloc[lat_bucket+1:, lon_bucket].dropna().iloc[0]\n",
    "    \n",
    "    # up\n",
    "    up = False\n",
    "    closest_up = np.nan\n",
    "    if lat_bucket != 0:\n",
    "        up = pivot_table.iloc[:lat_bucket, lon_bucket].dropna().any()\n",
    "        if up:\n",
    "            closest_up = pivot_table.iloc[:lat_bucket, lon_bucket].dropna().iloc[-1]\n",
    "    \n",
    "    # right   \n",
    "    right = False\n",
    "    closest_right = np.nan\n",
    "    if lon_bucket != pivot_table.shape[1]-1:\n",
    "        right = pivot_table.iloc[lat_bucket, lon_bucket+1:].dropna().any()\n",
    "        if right:\n",
    "            closest_right = pivot_table.iloc[lat_bucket, lon_bucket+1:].dropna().iloc[0]\n",
    "    \n",
    "    # cell already contains a value\n",
    "    if not (pd.isna(pivot_table.iloc[lat_bucket, lon_bucket])):\n",
    "        return pivot_table.iloc[lat_bucket, lon_bucket]\n",
    "    \n",
    "    # check for at least 3 directions\n",
    "    if np.sum([down, up, left, right]) >= 3:\n",
    "        return np.nanmean([closest_up, closest_down, closest_left, closest_right])\n",
    "    else:\n",
    "        return np.nan"
   ]
  },
  {
   "cell_type": "code",
   "execution_count": 34,
   "id": "62eab44a",
   "metadata": {
    "deletable": false,
    "editable": false
   },
   "outputs": [
    {
     "data": {
      "text/html": [
       "<p><strong><pre style='display: inline;'>q8a</pre></strong> passed!</p>"
      ],
      "text/plain": [
       "q8a results: All test cases passed!"
      ]
     },
     "execution_count": 34,
     "metadata": {},
     "output_type": "execute_result"
    }
   ],
   "source": [
    "grader.check(\"q8a\")"
   ]
  },
  {
   "attachments": {},
   "cell_type": "markdown",
   "id": "1f24e9a7",
   "metadata": {
    "deletable": false,
    "editable": false
   },
   "source": [
    "<br/>\n",
    "\n",
    "### Question 8b - Create Filled Heatmap\n",
    "\n",
    "Now that you have created the `fill_bucket` function, we want to actually use it to fill in the values in `heatmap_data`. Complete the function `fill_all` that takes in the pivot table and fills in all the values and produces a pivot table with the updated values. **DO NOT** mutate the original pivot table. Instead, produce a new pivot table that that contains the filled values. \n",
    "\n",
    "One point to note is that when we update a cell here, we do not use any surrounding *interpolated* cells to do our interpolation on any given cell. As a result, we will always use the **original** pivot table to find surrounding cells and interpolate.\n",
    "\n",
    "<!--\n",
    "BEGIN QUESTION\n",
    "name: q8b\n",
    "points: 3\n",
    "-->"
   ]
  },
  {
   "cell_type": "code",
   "execution_count": 35,
   "id": "30dc5001",
   "metadata": {
    "tags": []
   },
   "outputs": [
    {
     "data": {
      "image/png": "[encoded data removed]",
      "text/plain": [
       "<Figure size 1080x576 with 2 Axes>"
      ]
     },
     "metadata": {
      "needs_background": "light"
     },
     "output_type": "display_data"
    }
   ],
   "source": [
    "def fill_all(pivot_table):\n",
    "    pv_copy = pivot_table.copy()\n",
    "\n",
    "    for row in np.arange(len(pivot_table)):\n",
    "        for col in np.arange(len(pivot_table.columns)):\n",
    "            pv_copy.iloc[row, col] = fill_bucket(pivot_table, row, col)\n",
    "    return pv_copy\n",
    "\n",
    "\n",
    "filled_heatmap_data = fill_all(heatmap_data)\n",
    "\n",
    "plt.figure(figsize=(15, 8))\n",
    "ax = sns.heatmap(filled_heatmap_data, vmin=0, vmax=230, cmap = sns.cm.rocket_r)\n",
    "ax.invert_yaxis()\n",
    "plt.show()   "
   ]
  },
  {
   "cell_type": "code",
   "execution_count": 36,
   "id": "d94c73af",
   "metadata": {
    "deletable": false,
    "editable": false
   },
   "outputs": [
    {
     "data": {
      "text/html": [
       "<p><strong><pre style='display: inline;'>q8b</pre></strong> passed!</p>"
      ],
      "text/plain": [
       "q8b results: All test cases passed!"
      ]
     },
     "execution_count": 36,
     "metadata": {},
     "output_type": "execute_result"
    }
   ],
   "source": [
    "grader.check(\"q8b\")"
   ]
  },
  {
   "attachments": {},
   "cell_type": "markdown",
   "id": "463b7e54",
   "metadata": {
    "deletable": false,
    "editable": false
   },
   "source": [
    "<!-- BEGIN QUESTION -->\n",
    "\n",
    "<br/>\n",
    "\n",
    "### Question 8c - Other Interpolation Ideas\n",
    "\n",
    "Instead of just interpolating in a simple fashion as we did above, suggest one other way to interpolate (that actually works so do not just say \"put the average of all cells in every `NaN` cell). For example, you can take into account of the distance of the surrounding cells, the number of cells you use, and more. \n",
    "\n",
    "<!--\n",
    "BEGIN QUESTION\n",
    "name: q8c\n",
    "points: 2\n",
    "manual: True\n",
    "-->"
   ]
  },
  {
   "attachments": {},
   "cell_type": "markdown",
   "id": "102cfb47",
   "metadata": {},
   "source": [
    "To improve this interpolation, we can weight the values we find left, right, up, or down by their distance from the value we are imputing. In other words, we can follow our implementation from above while accounting for the distance from the missing value we are imputing. For example, if the “closest right cell” is 20 cells away, its value would be multiplied by 1/20 to account for the “weight” this value has on the missing value we are imputing. Likewise, if the “closest above cell” is 2 cells away, its value would be weighted more heavily (1/2 *value) in the average calculation of the 3 closest neighboring cells. "
   ]
  },
  {
   "attachments": {},
   "cell_type": "markdown",
   "id": "256edc81",
   "metadata": {
    "deletable": false,
    "editable": false
   },
   "source": [
    "<!-- END QUESTION -->\n",
    "\n",
    "<!-- BEGIN QUESTION -->\n",
    "\n",
    "<br/>\n",
    "\n",
    "### Question 9 - Choosing your Loss Function\n",
    "\n",
    "Let us say that you are trying to define a loss function $L(x_{i}, y_{i})$ to use for model, where $x_{i}$ is the input and the $y_{i}$ is a qualitative variable that that model outputs, consisting of the following five groups: good, moderate, unhealthy for sensitive groups, unhealthy, very unhealthy, or hazardous. How would you design your loss function to evaluate your model?\n",
    "\n",
    "<!--\n",
    "BEGIN QUESTION\n",
    "name: q9\n",
    "manual: True\n",
    "points: 2\n",
    "-->"
   ]
  },
  {
   "attachments": {},
   "cell_type": "markdown",
   "id": "06e863ad",
   "metadata": {},
   "source": [
    "When deciding what loss function to use for our model, we considered mean cross-entropy loss and\n",
    "mean squared error. We chose mean cross-entropy loss for the following reasons: \n",
    "- Cross-entropy is a better measure than MSE for classification because the decision boundary in a classification task is large (in comparison with regression) \n",
    "- MSE does not punish misclassifications enough (crossentropy loss more stronly penalizes bad predictions) \n",
    "- Loss surface is guaranteed to be convex for cross-entropy loss\n",
    "\n",
    "In conclusion, mean cross-entropy loss is a suitable loss function for this classification problems\n",
    "because it minimizes the distance between two probability distributions - predicted and actual."
   ]
  },
  {
   "attachments": {},
   "cell_type": "markdown",
   "id": "2ea97f3e",
   "metadata": {},
   "source": [
    "<!-- END QUESTION -->\n",
    "\n",
    "\n",
    "\n",
    "</br></br>\n",
    "\n",
    "### Question 10: Creating your own Model!\n",
    "\n",
    "Now that you have an idea of how to interpolate values, we will be using something more predictive. In this part, your final goal is to be creating a model and function that uses **at least four** features, with at least one of those four features being from an external dataset that you bring in and process yourself. Here are some rules on the model that you should follow: \n",
    "\n",
    "- Using your open-ended EDA analysis, use at least three features in the dataset provided to come up with some sort of predictive model for the AQI for remaining locations not predicted in the heatmap. You are **NOT** allowed to use any more than **one** of the particulate matter features for this model i.e. ozone or CO2 concentrations for example. \n",
    "    - The reason behind this is that AQI is directly based on these values, so there will be in some sense a near 100\\% correlation between AQI and these features under some transformations. \n",
    "- Use at least one feature that comes from an external dataset of choice. Some examples are geographical region (categorical), elevation (quantitative), or wilfire data. \n",
    "    - Reference question 2c of this project to see how to merge external data with the current EPA data.\n",
    "- Your model should, at the end, predict one of the following broad categories for the AQI: good, moderate, unhealthy for sensitive groups, unhealthy, very unhealthy, or hazardous. Note that this specification is different from `fill_bucket` in the sense that instead of returning a value, you will be returning a string for a category.\n",
    "    - As a result, you can either directly predict the category, or the AQI (ex. through regression) and then convert to the category. Category ranges for AQI can be found online.\n",
    "- The final model should be validated with some data that you hold out. You decide how to do this but there should be some model validation accuracy reported. You should be using the loss function that you designed in question 3 in order to do this.\n",
    "\n",
    "---\n",
    "\n",
    "#### Deliverables\n",
    "<br/>\n",
    "\n",
    "**`features`**: This should be a `pd.DataFrame` object that represents the design matrix that will be fed in as input to your model. Each row represents a data point and each column represents a feature. Essentially your $X$ matrix. \n",
    "\n",
    "**`targets`**: This should be a numpy array that where each value corresponds to the AQI value or AQI category for each of the data points in `features`. Essentially your $y$ vector. \n",
    "\n",
    "**`build_model`**: This function should have two parameters: `features` that will be used as input into your model as a `pd.DataFrame` object, and `targets` should be a numpy array of AQI values OR AQI categories. It should return a *function* or *object* that represents your model.\n",
    "\n",
    "**`predict`**: This function should have two parameters: `model`, the model that you build from the previous function `build_model`, and `features` that represent the design matrix for the test values that we want to predict. It should return the **AQI category** (not a value) that the model predicts for these inputs."
   ]
  },
  {
   "attachments": {},
   "cell_type": "markdown",
   "id": "cc24c2fc",
   "metadata": {
    "deletable": false,
    "editable": false
   },
   "source": [
    "<!-- BEGIN QUESTION -->\n",
    "\n",
    "<br/>\n",
    "\n",
    "### Question 10a: Choose Features and Model\n",
    "\n",
    "First, decide on the features that you will be using for your model. How predictive do you think each of the features that you chose will be of the AQI category? Then, how will you choose to make your model (multiple regression, decision trees, etc.)?\n",
    "\n",
    "<!--\n",
    "BEGIN QUESTION\n",
    "name: q10a\n",
    "points: 2\n",
    "manual: True\n",
    "-->"
   ]
  },
  {
   "attachments": {},
   "cell_type": "markdown",
   "id": "5a8c83ba",
   "metadata": {},
   "source": [
    "The features we will be using for our model are Annual Average Daily Traffic (AADT), Annual Mean CO Concentration, Annual Mean Wind Direction, Annual Mean Wind Speed, Annual Mean Temperature, Max Temperature Hour, Month, Day. We hypothesize that the CO concentration will be very predictive of AQI because it is used in the calculation of AQI. AADT is directly related to CO levels in the atmosphere, so it will also be a good predictor of AQI. Month will also have a strong relationship with AQI because AQI fluctuates based on the time of year. We imagine that average temperature, max temperature hour, wind direction and speed, and day will also be indicative of AQI, but less so than the other features. We will use a random forest classifier to understand how strong the relationship is between our 8 independent variables (features) and our dependent variable, AQI."
   ]
  },
  {
   "attachments": {},
   "cell_type": "markdown",
   "id": "ba5c84a3",
   "metadata": {
    "deletable": false,
    "editable": false
   },
   "source": [
    "<!-- END QUESTION -->\n",
    "\n",
    "<br/>\n",
    "\n",
    "### Question 10b: Build Features\n",
    "\n",
    "Create the `build_features` function as described at the beginning of this part. You should also do any cleaning or merging of internal or external datasets in this part. Make sure to read the specifications of the function very carefully. The autograder will provide some sanity checks on your output.\n",
    "\n",
    "<!--\n",
    "BEGIN QUESTION\n",
    "name: q10b\n",
    "points: 3\n",
    "-->"
   ]
  },
  {
   "cell_type": "code",
   "execution_count": 37,
   "id": "80435c6b-0b83-40ae-9ffb-85675867eada",
   "metadata": {},
   "outputs": [],
   "source": [
    "#merge with CO table\n",
    "daily_co = epa_data.get('daily_co')\n",
    "daily_co_copy = daily_co.copy()\n",
    "daily_co_copy = daily_co_copy[(daily_co_copy['State Code'] == 6)] #& (daily_co_copy['County Code'].isin([73, 1, 59, 67, 75, 37, 3, 5, 7, 9, 11, 13, 1, 27, 29, 31, 33, 35, 37, 39, 41, 43, 45, 47, 49, 51, 53, 55, 57,59,61,63,65,67,69,71,73,75,77,79,81,83,85,87,89,91,93,95,97,99,101,103,105,107,109,111,113,115]))]\n",
    "#daily_co_copy = daily_co_copy[daily_co_copy['Sample Duration'] == '8-HR RUN AVG END HOUR']\n",
    "\n",
    "#add month and day columns\n",
    "daily_co_copy['Month'] = daily_co_copy['Date Local'].str.split('-').str[1].astype('int')\n",
    "daily_co_copy['Day'] = daily_co_copy['Date Local'].str.split('-').str[2].astype('int')\n",
    "\n",
    "#rename gpd_epa_traffic columns to have Latitude and Longitude\n",
    "gpd_epa_traffic.rename(columns = {'Site Lat' : \"Latitude\"}, inplace = True)\n",
    "gpd_epa_traffic.rename(columns = {'Site Long': 'Longitude'}, inplace = True)\n",
    "\n",
    "gpd_epa_traffic_co = pd.merge(gpd_epa_traffic, daily_co_copy, how='inner', on=['Latitude', 'Longitude', 'Month', 'Day']).drop_duplicates()"
   ]
  },
  {
   "cell_type": "code",
   "execution_count": 38,
   "id": "d4b1a737-9755-4d3d-b944-40c6c86b082f",
   "metadata": {},
   "outputs": [],
   "source": [
    "# select and rename columns for CO merge\n",
    "gpd_epa_traffic_co = gpd_epa_traffic_co[['State Name_x', 'county Name', 'Month', 'Day', 'AQI_x','Category','Latitude', 'Longitude','AADT', 'Arithmetic Mean']]\n",
    "gpd_epa_traffic_co.rename(columns = {'Arithmetic Mean' : \"Annual Mean CO Concentration\"}, inplace = True)\n",
    "gpd_epa_traffic_co.rename(columns = {'AQI_x' : \"AQI\"}, inplace = True)\n",
    "gpd_epa_traffic_co.rename(columns = {'State Name_x' : \"State Name\"}, inplace = True)"
   ]
  },
  {
   "cell_type": "code",
   "execution_count": 39,
   "id": "9f8926b3-f693-4515-ad9c-344977e6d045",
   "metadata": {},
   "outputs": [],
   "source": [
    "#merge with wind table for wind speed\n",
    "daily_wind_speed = epa_data.get('daily_temp') #wind table in the temp folder\n",
    "daily_wind_speed_copy = daily_wind_speed.copy()\n",
    "daily_wind_speed_copy = daily_wind_speed_copy[(daily_wind_speed_copy['State Code'] == 6)] #& (daily_wind_speed_copy['County Code'].isin([73, 1, 59, 67, 75, 37, 3, 5, 7, 9, 11, 13, 1, 27, 29, 31, 33, 35, 37, 39, 41, 43, 45, 47, 49, 51, 53, 55, 57,59,61,63,65,67,69,71,73,75,77,79,81,83,85,87,89,91,93,95,97,99,101,103,105,107,109,111,113,115]))]\n",
    "daily_wind_speed_copy = daily_wind_speed_copy[daily_wind_speed_copy['Parameter Name'] == 'Wind Speed - Resultant'] \n",
    "\n",
    "#add month and day columns\n",
    "daily_wind_speed_copy['Month'] = daily_wind_speed_copy['Date Local'].str.split('-').str[1].astype('int')\n",
    "daily_wind_speed_copy['Day'] = daily_wind_speed_copy['Date Local'].str.split('-').str[2].astype('int')\n",
    "\n",
    "gpd_epa_traffic_co_wind_speed = pd.merge(gpd_epa_traffic_co, daily_wind_speed_copy, how='inner', on=['Latitude', 'Longitude', 'Month', 'Day']).drop_duplicates()"
   ]
  },
  {
   "cell_type": "code",
   "execution_count": 40,
   "id": "be9d6b14-1f7a-47ff-9fde-4fa6bc14ad6e",
   "metadata": {},
   "outputs": [],
   "source": [
    "# select and rename columns for wind speed merge\n",
    "gpd_epa_traffic_co_wind_speed = gpd_epa_traffic_co_wind_speed[['State Name_x', 'county Name', 'Month', 'Day', 'AQI_x', 'Category','Latitude', 'Longitude', 'AADT', 'Annual Mean CO Concentration', 'Arithmetic Mean']]\n",
    "gpd_epa_traffic_co_wind_speed.rename(columns = {'Arithmetic Mean' : \"Annual Mean Wind Speed\"}, inplace = True)\n",
    "gpd_epa_traffic_co_wind_speed.rename(columns = {'AQI_x' : \"AQI\"}, inplace = True)\n",
    "gpd_epa_traffic_co_wind_speed.rename(columns = {'State Name_x' : \"State Name\"}, inplace = True)"
   ]
  },
  {
   "cell_type": "code",
   "execution_count": 41,
   "id": "24ace24b-c4b9-4f0a-8fde-fe85d0193b09",
   "metadata": {},
   "outputs": [],
   "source": [
    "#merge with wind table again for wind direction\n",
    "daily_wind_dir = epa_data.get('daily_temp') #wind table in the temp folder\n",
    "daily_wind_dir_copy = daily_wind_dir.copy()\n",
    "daily_wind_dir_copy = daily_wind_dir_copy[(daily_wind_dir_copy['State Code'] == 6)] #& (daily_wind_dir_copy['County Code'].isin([73, 1, 59, 67, 75, 37, 3, 5, 7, 9, 11, 13, 1, 27, 29, 31, 33, 35, 37, 39, 41, 43, 45, 47, 49, 51, 53, 55, 57,59,61,63,65,67,69,71,73,75,77,79,81,83,85,87,89,91,93,95,97,99,101,103,105,107,109,111,113,115]))]\n",
    "daily_wind_dir_copy = daily_wind_dir_copy[daily_wind_dir_copy['Parameter Name'] == 'Wind Direction - Resultant'] \n",
    "\n",
    "#add month and day columns\n",
    "daily_wind_dir_copy['Month'] = daily_wind_dir_copy['Date Local'].str.split('-').str[1].astype('int')\n",
    "daily_wind_dir_copy['Day'] = daily_wind_dir_copy['Date Local'].str.split('-').str[2].astype('int')\n",
    "\n",
    "gpd_epa_traffic_co_wind_speed_dir = pd.merge(gpd_epa_traffic_co_wind_speed, daily_wind_dir_copy, how='inner', on=['Latitude', 'Longitude', 'Month', 'Day']).drop_duplicates()"
   ]
  },
  {
   "cell_type": "code",
   "execution_count": 42,
   "id": "f704e53e-6d65-494e-968d-f121ec16945d",
   "metadata": {},
   "outputs": [],
   "source": [
    "# select and rename columns for wind direction merge\n",
    "gpd_epa_traffic_co_wind_speed_dir = gpd_epa_traffic_co_wind_speed_dir[['State Name_x', 'county Name', 'Month', 'Day', 'AQI_x', 'Category','Latitude', 'Longitude', 'AADT', 'Annual Mean CO Concentration', 'Annual Mean Wind Speed', 'Arithmetic Mean']]\n",
    "gpd_epa_traffic_co_wind_speed_dir.rename(columns = {'Arithmetic Mean' : \"Annual Mean Wind Direction\"}, inplace = True)\n",
    "gpd_epa_traffic_co_wind_speed_dir.rename(columns = {'AQI_x' : \"AQI\"}, inplace = True)\n",
    "gpd_epa_traffic_co_wind_speed_dir.rename(columns = {'State Name_x' : \"State Name\"}, inplace = True)\n",
    "gpd_epa_traffic_co_wind_speed_dir.rename(columns = {'Category' : \"AQI Category\"}, inplace = True)"
   ]
  },
  {
   "cell_type": "code",
   "execution_count": 43,
   "id": "4d7bc064-85f8-4b2b-a806-65e0aacc16f5",
   "metadata": {},
   "outputs": [],
   "source": [
    "#merge with temperature table\n",
    "daily_temp = epa_data.get('daily_wind') #temp table in the wind folder\n",
    "daily_temp_copy = daily_temp.copy()\n",
    "daily_temp_copy = daily_temp_copy[(daily_temp_copy['State Code'] == 6)] #& (daily_wind_dir_copy['County Code'].isin([73, 1, 59, 67, 75, 37, 3, 5, 7, 9, 11, 13, 1, 27, 29, 31, 33, 35, 37, 39, 41, 43, 45, 47, 49, 51, 53, 55, 57,59,61,63,65,67,69,71,73,75,77,79,81,83,85,87,89,91,93,95,97,99,101,103,105,107,109,111,113,115]))]\n",
    "\n",
    "#add month and day columns\n",
    "daily_temp_copy['Month'] = daily_temp_copy['Date Local'].str.split('-').str[1].astype('int')\n",
    "daily_temp_copy['Day'] = daily_temp_copy['Date Local'].str.split('-').str[2].astype('int')\n",
    "\n",
    "gpd_epa_traffic_co_wind_speed_dir_temp_mean = pd.merge(gpd_epa_traffic_co_wind_speed_dir, daily_temp_copy, how='inner', on=['Latitude', 'Longitude', 'Month', 'Day']).drop_duplicates()"
   ]
  },
  {
   "cell_type": "code",
   "execution_count": 44,
   "id": "4d643312-7ffc-48c7-80ba-4df84b7349f9",
   "metadata": {},
   "outputs": [],
   "source": [
    "# select and rename columns for temperature merge\n",
    "gpd_epa_traffic_co_wind_speed_dir_temp_mean = gpd_epa_traffic_co_wind_speed_dir_temp_mean[['State Name_x', 'county Name', 'Month', 'Day', 'AQI_x', 'AQI Category','Latitude', 'Longitude', 'AADT', 'Annual Mean CO Concentration', 'Annual Mean Wind Speed', 'Annual Mean Wind Direction', 'Arithmetic Mean']]\n",
    "gpd_epa_traffic_co_wind_speed_dir_temp_mean.rename(columns = {'Arithmetic Mean' : \"Annual Mean Temperature\"}, inplace = True)\n",
    "gpd_epa_traffic_co_wind_speed_dir_temp_mean.rename(columns = {'AQI_x' : \"AQI\"}, inplace = True)\n",
    "gpd_epa_traffic_co_wind_speed_dir_temp_mean.rename(columns = {'State Name_x' : \"State Name\"}, inplace = True)"
   ]
  },
  {
   "cell_type": "code",
   "execution_count": 45,
   "id": "8374ec85-5287-439b-aa5d-b32ae8d99a07",
   "metadata": {},
   "outputs": [],
   "source": [
    "#merge with temperature table for 1st max hour\n",
    "daily_temp = epa_data.get('daily_wind') #temp table in the wind folder\n",
    "daily_temp_copy = daily_temp.copy()\n",
    "daily_temp_copy = daily_temp_copy[(daily_temp_copy['State Code'] == 6)] #& (daily_wind_dir_copy['County Code'].isin([73, 1, 59, 67, 75, 37, 3, 5, 7, 9, 11, 13, 1, 27, 29, 31, 33, 35, 37, 39, 41, 43, 45, 47, 49, 51, 53, 55, 57,59,61,63,65,67,69,71,73,75,77,79,81,83,85,87,89,91,93,95,97,99,101,103,105,107,109,111,113,115]))]\n",
    "\n",
    "#add month and day columns\n",
    "daily_temp_copy['Month'] = daily_temp_copy['Date Local'].str.split('-').str[1].astype('int')\n",
    "daily_temp_copy['Day'] = daily_temp_copy['Date Local'].str.split('-').str[2].astype('int')\n",
    "\n",
    "gpd_epa_traffic_co_wind_speed_dir_temp_mean_hour = pd.merge(gpd_epa_traffic_co_wind_speed_dir_temp_mean, daily_temp_copy, how='inner', on=['Latitude', 'Longitude', 'Month', 'Day']).drop_duplicates()"
   ]
  },
  {
   "cell_type": "code",
   "execution_count": 46,
   "id": "6b6adb1c-bd65-4774-858c-3da118ba6af0",
   "metadata": {},
   "outputs": [],
   "source": [
    "# select and rename columns for temperature 1st hour max merge\n",
    "gpd_epa_traffic_co_wind_speed_dir_temp_mean_hour = gpd_epa_traffic_co_wind_speed_dir_temp_mean_hour[['State Name_x', 'county Name', 'Month', 'Day', 'AQI_x', 'AQI Category','Latitude', 'Longitude', 'AADT', 'Annual Mean CO Concentration', 'Annual Mean Wind Speed', 'Annual Mean Wind Direction', 'Annual Mean Temperature', '1st Max Hour']]\n",
    "gpd_epa_traffic_co_wind_speed_dir_temp_mean_hour.rename(columns = {'1st Max Hour' : \"Max Temperature Hour\"}, inplace = True)\n",
    "gpd_epa_traffic_co_wind_speed_dir_temp_mean_hour.rename(columns = {'AQI_x' : \"AQI\"}, inplace = True)\n",
    "gpd_epa_traffic_co_wind_speed_dir_temp_mean_hour.rename(columns = {'State Name_x' : \"State Name\"}, inplace = True)"
   ]
  },
  {
   "cell_type": "code",
   "execution_count": 47,
   "id": "3c9390bc",
   "metadata": {},
   "outputs": [
    {
     "data": {
      "text/html": [
       "<div>\n",
       "<style scoped>\n",
       "    .dataframe tbody tr th:only-of-type {\n",
       "        vertical-align: middle;\n",
       "    }\n",
       "\n",
       "    .dataframe tbody tr th {\n",
       "        vertical-align: top;\n",
       "    }\n",
       "\n",
       "    .dataframe thead th {\n",
       "        text-align: right;\n",
       "    }\n",
       "</style>\n",
       "<table border=\"1\" class=\"dataframe\">\n",
       "  <thead>\n",
       "    <tr style=\"text-align: right;\">\n",
       "      <th></th>\n",
       "      <th>AADT</th>\n",
       "      <th>Annual Mean CO Concentration</th>\n",
       "      <th>Annual Mean Wind Direction</th>\n",
       "      <th>Annual Mean Wind Speed</th>\n",
       "      <th>Annual Mean Temperature</th>\n",
       "      <th>Max Temperature Hour</th>\n",
       "      <th>Month</th>\n",
       "      <th>Day</th>\n",
       "    </tr>\n",
       "  </thead>\n",
       "  <tbody>\n",
       "    <tr>\n",
       "      <th>0</th>\n",
       "      <td>112900</td>\n",
       "      <td>0.492217</td>\n",
       "      <td>158.083333</td>\n",
       "      <td>1.329167</td>\n",
       "      <td>47.100000</td>\n",
       "      <td>13</td>\n",
       "      <td>1</td>\n",
       "      <td>3</td>\n",
       "    </tr>\n",
       "    <tr>\n",
       "      <th>1</th>\n",
       "      <td>112900</td>\n",
       "      <td>0.487500</td>\n",
       "      <td>158.083333</td>\n",
       "      <td>1.329167</td>\n",
       "      <td>47.100000</td>\n",
       "      <td>13</td>\n",
       "      <td>1</td>\n",
       "      <td>3</td>\n",
       "    </tr>\n",
       "    <tr>\n",
       "      <th>2</th>\n",
       "      <td>112900</td>\n",
       "      <td>0.380000</td>\n",
       "      <td>193.416667</td>\n",
       "      <td>1.158333</td>\n",
       "      <td>46.341667</td>\n",
       "      <td>14</td>\n",
       "      <td>1</td>\n",
       "      <td>5</td>\n",
       "    </tr>\n",
       "    <tr>\n",
       "      <th>3</th>\n",
       "      <td>112900</td>\n",
       "      <td>0.383333</td>\n",
       "      <td>193.416667</td>\n",
       "      <td>1.158333</td>\n",
       "      <td>46.341667</td>\n",
       "      <td>14</td>\n",
       "      <td>1</td>\n",
       "      <td>5</td>\n",
       "    </tr>\n",
       "    <tr>\n",
       "      <th>4</th>\n",
       "      <td>112900</td>\n",
       "      <td>0.332826</td>\n",
       "      <td>212.791667</td>\n",
       "      <td>1.612500</td>\n",
       "      <td>43.329167</td>\n",
       "      <td>14</td>\n",
       "      <td>1</td>\n",
       "      <td>6</td>\n",
       "    </tr>\n",
       "  </tbody>\n",
       "</table>\n",
       "</div>"
      ],
      "text/plain": [
       "     AADT  Annual Mean CO Concentration  Annual Mean Wind Direction  \\\n",
       "0  112900                      0.492217                  158.083333   \n",
       "1  112900                      0.487500                  158.083333   \n",
       "2  112900                      0.380000                  193.416667   \n",
       "3  112900                      0.383333                  193.416667   \n",
       "4  112900                      0.332826                  212.791667   \n",
       "\n",
       "   Annual Mean Wind Speed  Annual Mean Temperature  Max Temperature Hour  \\\n",
       "0                1.329167                47.100000                    13   \n",
       "1                1.329167                47.100000                    13   \n",
       "2                1.158333                46.341667                    14   \n",
       "3                1.158333                46.341667                    14   \n",
       "4                1.612500                43.329167                    14   \n",
       "\n",
       "   Month  Day  \n",
       "0      1    3  \n",
       "1      1    3  \n",
       "2      1    5  \n",
       "3      1    5  \n",
       "4      1    6  "
      ]
     },
     "execution_count": 47,
     "metadata": {},
     "output_type": "execute_result"
    }
   ],
   "source": [
    "#features: This should be a pd.DataFrame object that represents the design \n",
    "#matrix that will be fed in as input to your model. Each row represents a data \n",
    "#point and each column represents a feature. Essentially your  𝑋  matrix.\n",
    "\n",
    "features = gpd_epa_traffic_co_wind_speed_dir_temp_mean_hour[['AADT', 'Annual Mean CO Concentration', 'Annual Mean Wind Direction', 'Annual Mean Wind Speed', 'Annual Mean Temperature', 'Max Temperature Hour', 'Month', 'Day']]\n",
    "\n",
    "#targets: This should be a numpy array that where each value corresponds to the \n",
    "#AQI value or AQI category for each of the data points in features. Essentially \n",
    "#your  𝑦  vector.\n",
    "\n",
    "targets = gpd_epa_traffic_co_wind_speed_dir_temp_mean_hour['AQI Category'].str.lower()\n",
    "\n",
    "features.head() "
   ]
  },
  {
   "cell_type": "code",
   "execution_count": 48,
   "id": "f5df3e40",
   "metadata": {
    "deletable": false,
    "editable": false
   },
   "outputs": [
    {
     "data": {
      "text/html": [
       "<p><strong><pre style='display: inline;'>q10b</pre></strong> passed!</p>"
      ],
      "text/plain": [
       "q10b results: All test cases passed!"
      ]
     },
     "execution_count": 48,
     "metadata": {},
     "output_type": "execute_result"
    }
   ],
   "source": [
    "grader.check(\"q10b\")"
   ]
  },
  {
   "attachments": {},
   "cell_type": "markdown",
   "id": "26e15c8d",
   "metadata": {
    "deletable": false,
    "editable": false
   },
   "source": [
    "<br/>\n",
    "\n",
    "### Question 10c: Build Your Model!\n",
    "\n",
    "Create the `build_model` function as described at the beginning of this part. Make sure to read the specifications of the function very carefully. The autograder will provide some sanity checks on your output.\n",
    "\n",
    "<!--\n",
    "BEGIN QUESTION\n",
    "name: q10c\n",
    "points: 8\n",
    "-->"
   ]
  },
  {
   "cell_type": "code",
   "execution_count": 49,
   "id": "0436e7a7",
   "metadata": {},
   "outputs": [
    {
     "data": {
      "text/plain": [
       "RandomForestClassifier()"
      ]
     },
     "execution_count": 49,
     "metadata": {},
     "output_type": "execute_result"
    }
   ],
   "source": [
    "from collections import Counter\n",
    "from sklearn.datasets import make_classification\n",
    "from sklearn.ensemble import RandomForestClassifier\n",
    "\n",
    "def build_model(features, targets):\n",
    "    '''This function should have two parameters: features that will be \n",
    "    used as input into your model as a pd.DataFrame object, and targets \n",
    "    should be a numpy array of AQI values OR AQI categories. It should \n",
    "    return a function or object that represents your model.'''\n",
    "    model = RandomForestClassifier()\n",
    "    model.fit(features, targets)\n",
    "    return model\n",
    "\n",
    "build_model(features, targets)"
   ]
  },
  {
   "cell_type": "code",
   "execution_count": 50,
   "id": "4e7f4165",
   "metadata": {
    "deletable": false,
    "editable": false
   },
   "outputs": [
    {
     "data": {
      "text/html": [
       "<p><strong><pre style='display: inline;'>q10c</pre></strong> passed!</p>"
      ],
      "text/plain": [
       "q10c results: All test cases passed!"
      ]
     },
     "execution_count": 50,
     "metadata": {},
     "output_type": "execute_result"
    }
   ],
   "source": [
    "grader.check(\"q10c\")"
   ]
  },
  {
   "attachments": {},
   "cell_type": "markdown",
   "id": "f38ca710",
   "metadata": {
    "deletable": false,
    "editable": false
   },
   "source": [
    "<br/>\n",
    "\n",
    "### Question 10d: Predict Points\n",
    "\n",
    "Create the `predict` function as described at the beginning of this part. Make sure to read the specifications of the function very carefully. The autograder will provide some sanity checks on your output.\n",
    "\n",
    "<!--\n",
    "BEGIN QUESTION\n",
    "name: q10d\n",
    "points: 4\n",
    "-->"
   ]
  },
  {
   "cell_type": "code",
   "execution_count": 51,
   "id": "1505232f",
   "metadata": {},
   "outputs": [],
   "source": [
    "categories = [\"good\", \"moderate\", \"unhealthy for sensitive groups\", \"unhealthy\", \"very unhealthy\", \"hazardous\"]\n",
    "\n",
    "def predict(model, features):\n",
    "    '''This function should have two parameters: model, the model \n",
    "    that you build from the previous function build_model, and features \n",
    "    that represent the design matrix for the test values that we want to \n",
    "    predict. It should return the AQI category (not a value) that the \n",
    "    model predicts for these inputs.'''\n",
    "    aqi = model.predict(features)\n",
    "    return aqi"
   ]
  },
  {
   "cell_type": "code",
   "execution_count": 52,
   "id": "c8f75bd7",
   "metadata": {
    "deletable": false,
    "editable": false
   },
   "outputs": [
    {
     "data": {
      "text/html": [
       "<p><strong><pre style='display: inline;'>q10d</pre></strong> passed!</p>"
      ],
      "text/plain": [
       "q10d results: All test cases passed!"
      ]
     },
     "execution_count": 52,
     "metadata": {},
     "output_type": "execute_result"
    }
   ],
   "source": [
    "grader.check(\"q10d\")"
   ]
  },
  {
   "attachments": {},
   "cell_type": "markdown",
   "id": "95796ead",
   "metadata": {
    "deletable": false,
    "editable": false
   },
   "source": [
    "<br/>\n",
    "\n",
    "### Question 10e: Model Validation and Performance\n",
    "\n",
    "Now that you have finished making your model, we want to see how well it performs on our data. In this question, use the following cell to split your data into training and validation sets. You should partition 70\\% of your data to be used as your training set, and the remaining to be used as your validation set. \n",
    "\n",
    "Assign `binary_error` to be the **fraction of inputs on your validation set that the your `predict` function classifies incorrectly.** Note that this is a binary loss in some sense as it assigns a loss of 1 to those points predicted incorrectly, and a loss of 0 to those points predicted correctly.\n",
    "\n",
    "Assign `cv_error` to be the the error on the validation set produced by the loss function $ L $ that you designed in question 3.\n",
    "\n",
    "*Hint*: you can use `train_test_split` from `sklearn`.\n",
    "\n",
    "<!--\n",
    "BEGIN QUESTION\n",
    "name: q10e\n",
    "points: 8\n",
    "-->"
   ]
  },
  {
   "cell_type": "code",
   "execution_count": 53,
   "id": "9b2a0333",
   "metadata": {},
   "outputs": [
    {
     "name": "stdout",
     "output_type": "stream",
     "text": [
      "Accuracy:  0.9262820512820513\n",
      "Binary Error:  0.07371794871794868\n",
      "CV Error:  0.28177323737251814\n"
     ]
    }
   ],
   "source": [
    "categories = [\"good\", \"moderate\", \"unhealthy for sensitive groups\", \"unhealthy\", \"very unhealthy\", \"hazardous\"]\n",
    "import sklearn.model_selection\n",
    "   \n",
    "num_targets = targets.apply(lambda x: categories.index(x))            \n",
    "X_train, X_test, y_train, y_test = sklearn.model_selection.train_test_split(features, num_targets, test_size=0.3, train_size=0.7)\n",
    "\n",
    "model = build_model(X_train, y_train)\n",
    "result = predict(model, X_test)\n",
    "bool_array = result == y_test\n",
    "accuracy = np.sum(bool_array) / len(result)\n",
    "print('Accuracy: ', accuracy)\n",
    "\n",
    "binary_error = 1 - accuracy\n",
    "print('Binary Error: ', binary_error)\n",
    "\n",
    "# compute Cross Entropy Loss\n",
    "prob_results = model.predict_proba(X_test)\n",
    "cv_error =  -1 * np.mean(np.apply_along_axis(np.log, 0, np.apply_along_axis(max, 1, prob_results)))\n",
    "print('CV Error: ', cv_error)"
   ]
  },
  {
   "cell_type": "code",
   "execution_count": 54,
   "id": "60db0aa0",
   "metadata": {
    "deletable": false,
    "editable": false
   },
   "outputs": [
    {
     "data": {
      "text/html": [
       "<p><strong><pre style='display: inline;'>q10e</pre></strong> passed!</p>"
      ],
      "text/plain": [
       "q10e results: All test cases passed!"
      ]
     },
     "execution_count": 54,
     "metadata": {},
     "output_type": "execute_result"
    }
   ],
   "source": [
    "grader.check(\"q10e\")"
   ]
  },
  {
   "attachments": {},
   "cell_type": "markdown",
   "id": "7c8b7e39",
   "metadata": {},
   "source": [
    "<br/><br/>\n",
    "\n",
    "---\n",
    "## Part 5: Open-Ended Modeling\n",
    "\n",
    "Now that you have had some experience with creating the a model from scratch using the existing data, you are now ready to explore other questions, such as the ones in your design document. In this section, you will use the tools that we developed in the previous parts to answer the hypothesis of your choice! Note that breaking your model-building and analysis process into modularized functions as you did above will make your code more interpretable and less error-prone. "
   ]
  },
  {
   "attachments": {},
   "cell_type": "markdown",
   "id": "303c6038",
   "metadata": {
    "deletable": false,
    "editable": false
   },
   "source": [
    "<!-- BEGIN QUESTION -->\n",
    "\n",
    "### Question 11a\n",
    "\n",
    "Train a baseline model of your choice using any supervised learning approach we have studied to answer your hypothesis and predict something related to AQI; you are not limited to a linear model. However, you may use a maximum of **three features** for this part. After training, evaluate it on some validation data that you hold out yourself. \n",
    "\n",
    "<!--\n",
    "BEGIN QUESTION\n",
    "name: q11a\n",
    "points: 5\n",
    "manual: True\n",
    "-->"
   ]
  },
  {
   "cell_type": "code",
   "execution_count": 55,
   "id": "62b08e29",
   "metadata": {},
   "outputs": [],
   "source": [
    "def categorize_aqi(value):\n",
    "    if value > 300:\n",
    "        return \"hazardous\"\n",
    "    if value > 200:\n",
    "        return \"very unhealthy\"\n",
    "    if value > 150:\n",
    "        return \"unhealthy\"\n",
    "    if value > 100:\n",
    "        return \"unhealthy for sensitive groups\"\n",
    "    if value > 50:\n",
    "        return \"moderate\"\n",
    "    return \"good\""
   ]
  },
  {
   "cell_type": "code",
   "execution_count": 56,
   "id": "acbbc8cd-535d-4d39-b232-eb24653779e2",
   "metadata": {},
   "outputs": [],
   "source": [
    "# load and clean the income dataset\n",
    "income = pd.read_csv('data/IncomeData.csv')\n",
    "income = income.rename(columns = {'Table 1. Per Capita Personal Income, by County, 2018–2020': 'County Name',\n",
    "                                 'Unnamed: 3': 'Income 2020 ($)', \n",
    "                                 'Unnamed: 4': 'Income Rank in State'})\n",
    "income = income[['County Name', 'Income 2020 ($)', 'Income Rank in State']]\n",
    "income = income[202:260]"
   ]
  },
  {
   "cell_type": "code",
   "execution_count": 57,
   "id": "54d8ce05-7f3d-4e7c-a860-5a770a2dfc3d",
   "metadata": {},
   "outputs": [
    {
     "data": {
      "text/html": [
       "<div>\n",
       "<style scoped>\n",
       "    .dataframe tbody tr th:only-of-type {\n",
       "        vertical-align: middle;\n",
       "    }\n",
       "\n",
       "    .dataframe tbody tr th {\n",
       "        vertical-align: top;\n",
       "    }\n",
       "\n",
       "    .dataframe thead th {\n",
       "        text-align: right;\n",
       "    }\n",
       "</style>\n",
       "<table border=\"1\" class=\"dataframe\">\n",
       "  <thead>\n",
       "    <tr style=\"text-align: right;\">\n",
       "      <th></th>\n",
       "      <th>County Name</th>\n",
       "      <th>Income 2020 ($)</th>\n",
       "      <th>Income Rank in State</th>\n",
       "      <th>Mean Ozone Concentration</th>\n",
       "      <th>AQI</th>\n",
       "      <th>Date Local</th>\n",
       "      <th>AQI Category</th>\n",
       "    </tr>\n",
       "  </thead>\n",
       "  <tbody>\n",
       "    <tr>\n",
       "      <th>0</th>\n",
       "      <td>Alameda</td>\n",
       "      <td>87078</td>\n",
       "      <td>6</td>\n",
       "      <td>0.019471</td>\n",
       "      <td>23</td>\n",
       "      <td>2020-01-01</td>\n",
       "      <td>good</td>\n",
       "    </tr>\n",
       "    <tr>\n",
       "      <th>1</th>\n",
       "      <td>Alameda</td>\n",
       "      <td>87078</td>\n",
       "      <td>6</td>\n",
       "      <td>0.007882</td>\n",
       "      <td>16</td>\n",
       "      <td>2020-01-02</td>\n",
       "      <td>good</td>\n",
       "    </tr>\n",
       "    <tr>\n",
       "      <th>2</th>\n",
       "      <td>Alameda</td>\n",
       "      <td>87078</td>\n",
       "      <td>6</td>\n",
       "      <td>0.005706</td>\n",
       "      <td>12</td>\n",
       "      <td>2020-01-03</td>\n",
       "      <td>good</td>\n",
       "    </tr>\n",
       "    <tr>\n",
       "      <th>3</th>\n",
       "      <td>Alameda</td>\n",
       "      <td>87078</td>\n",
       "      <td>6</td>\n",
       "      <td>0.012647</td>\n",
       "      <td>26</td>\n",
       "      <td>2020-01-04</td>\n",
       "      <td>good</td>\n",
       "    </tr>\n",
       "    <tr>\n",
       "      <th>4</th>\n",
       "      <td>Alameda</td>\n",
       "      <td>87078</td>\n",
       "      <td>6</td>\n",
       "      <td>0.015059</td>\n",
       "      <td>29</td>\n",
       "      <td>2020-01-05</td>\n",
       "      <td>good</td>\n",
       "    </tr>\n",
       "  </tbody>\n",
       "</table>\n",
       "</div>"
      ],
      "text/plain": [
       "  County Name  Income 2020 ($) Income Rank in State  Mean Ozone Concentration  \\\n",
       "0     Alameda            87078                    6                  0.019471   \n",
       "1     Alameda            87078                    6                  0.007882   \n",
       "2     Alameda            87078                    6                  0.005706   \n",
       "3     Alameda            87078                    6                  0.012647   \n",
       "4     Alameda            87078                    6                  0.015059   \n",
       "\n",
       "   AQI  Date Local AQI Category  \n",
       "0   23  2020-01-01         good  \n",
       "1   16  2020-01-02         good  \n",
       "2   12  2020-01-03         good  \n",
       "3   26  2020-01-04         good  \n",
       "4   29  2020-01-05         good  "
      ]
     },
     "execution_count": 57,
     "metadata": {},
     "output_type": "execute_result"
    }
   ],
   "source": [
    "# merge income with ozone\n",
    "\n",
    "daily_ozone = epa_data.get('daily_ozone')\n",
    "daily_ozone_copy = daily_ozone.copy()\n",
    "daily_ozone_copy = daily_ozone_copy[daily_ozone_copy['State Code'] == 6]\n",
    "\n",
    "income_ozone = pd.merge(income, daily_ozone_copy, how='inner', on=['County Name']).drop_duplicates()\n",
    "income_ozone = income_ozone[['County Name', 'Income 2020 ($)', 'Income Rank in State', 'Arithmetic Mean', 'AQI', 'Date Local']]\n",
    "income_ozone = income_ozone.rename(columns = {'Arithmetic Mean': 'Mean Ozone Concentration'})\n",
    "income_ozone['Income 2020 ($)'] = income_ozone['Income 2020 ($)'].str.replace(',', '').astype('int')\n",
    "income_ozone['AQI Category'] = income_ozone['AQI'].apply(categorize_aqi)\n",
    "income_ozone.head()"
   ]
  },
  {
   "cell_type": "code",
   "execution_count": 58,
   "id": "750252cb-7540-44ed-9264-231c336b96fc",
   "metadata": {},
   "outputs": [],
   "source": [
    "#features: This should be a pd.DataFrame object that represents the design \n",
    "#matrix that will be fed in as input to your model. Each row represents a data \n",
    "#point and each column represents a feature. Essentially your  𝑋  matrix.\n",
    "\n",
    "features_11 = income_ozone[['Income 2020 ($)', 'Income Rank in State', 'Mean Ozone Concentration']]\n",
    "\n",
    "#targets: This should be a numpy array that where each value corresponds to the \n",
    "#AQI value or AQI category for each of the data points in features. Essentially \n",
    "#your  𝑦  vector.\n",
    "\n",
    "targets_11 = income_ozone['AQI']\n",
    "targets_cat_11 = income_ozone['AQI Category']"
   ]
  },
  {
   "cell_type": "code",
   "execution_count": 59,
   "id": "b43d988e-5bbd-417f-888d-04e76d3242fc",
   "metadata": {},
   "outputs": [
    {
     "data": {
      "text/plain": [
       "LogisticRegression(multi_class='multinomial')"
      ]
     },
     "execution_count": 59,
     "metadata": {},
     "output_type": "execute_result"
    }
   ],
   "source": [
    "from sklearn.linear_model import LogisticRegression\n",
    "\n",
    "def build_model_11(features, targets):\n",
    "    '''This function should have two parameters: features that will be \n",
    "    used as input into your model as a pd.DataFrame object, and targets \n",
    "    should be a numpy array of AQI values OR AQI categories. It should \n",
    "    return a function or object that represents your model.'''\n",
    "    model = LogisticRegression(fit_intercept = True, multi_class='multinomial', solver='lbfgs')\n",
    "    model.fit(features, targets)\n",
    "    return model\n",
    "build_model_11(features_11, targets_cat_11)"
   ]
  },
  {
   "cell_type": "code",
   "execution_count": 60,
   "id": "43ae7a5a-ba2e-4690-b8ec-e8c54effe235",
   "metadata": {},
   "outputs": [],
   "source": [
    "def predict_11(model, features):\n",
    "    '''This function should have two parameters: model, the model \n",
    "    that you build from the previous function build_model, and features \n",
    "    that represent the design matrix for the test values that we want to \n",
    "    predict. It should return the AQI category (not a value) that the \n",
    "    model predicts for these inputs.'''\n",
    "    return model.predict(features)"
   ]
  },
  {
   "cell_type": "code",
   "execution_count": 61,
   "id": "bbf78b29-a27a-444a-aaf6-2cb167583ab2",
   "metadata": {},
   "outputs": [
    {
     "name": "stdout",
     "output_type": "stream",
     "text": [
      "Binary Error:  0.19727327924049232\n",
      "CV Error:  0.22584475263376538\n"
     ]
    }
   ],
   "source": [
    "import sklearn.model_selection\n",
    "X_train_11, X_test_11, y_train_11, y_test_11 = sklearn.model_selection.train_test_split(features_11, targets_cat_11, test_size=0.3, train_size=0.7)\n",
    "\n",
    "model = build_model_11(X_train_11, y_train_11)\n",
    "result = predict_11(model, X_test_11)\n",
    "bool_array = result == y_test_11\n",
    "accuracy = np.sum(bool_array) / len(result)\n",
    "\n",
    "binary_error = 1 - accuracy\n",
    "print('Binary Error: ', binary_error)\n",
    "\n",
    "# compute Cross Entropy Loss\n",
    "prob_results = model.predict_proba(X_test_11)\n",
    "cv_error =  -1 * np.mean(np.apply_along_axis(np.log, 0, np.apply_along_axis(max, 1, prob_results)))\n",
    "print('CV Error: ', cv_error)"
   ]
  },
  {
   "attachments": {},
   "cell_type": "markdown",
   "id": "f2558166",
   "metadata": {
    "deletable": false,
    "editable": false
   },
   "source": [
    "<!-- END QUESTION -->\n",
    "\n",
    "<!-- BEGIN QUESTION -->\n",
    "\n",
    "### Question 11b\n",
    "\n",
    "Explain and summarize the model that you used. In your summary, make sure to include the model description, the inputs, the outputs, as well as the cross-validation error. Additionally, talk a little bit about what you would change to your baseline model to improve it. The expected length of your summary should be 8-12 sentences. \n",
    "\n",
    "<!--\n",
    "BEGIN QUESTION\n",
    "name: q11b\n",
    "points: 2\n",
    "manual: True\n",
    "-->"
   ]
  },
  {
   "attachments": {},
   "cell_type": "markdown",
   "id": "82cf47b9",
   "metadata": {},
   "source": [
    "We decided to develop a new research topic based on the creativity feedback we received in Part 1, and subsequently we developed a new hypothesis for this part of our modeling. For our open ended modeling, we are investigating the relationship between the Air Quality Index and wealth across different counties in California. We chose this topic because we believe it is important to understand how the health implications associated with high Air Quality Index may disproportionately affect populations based on socioeconomic status. Our research question is: what is the relationship between Air Quality Index and wealth across different counties in California? Our hypothesis is that California counties with lower average income will have worse Air Quality Index, because lower-income communities are historically host to a higher number of factories and power plants that emit harmful pollutants into the atmosphere. We will be able to confirm our hypothesis by observing our final model's accuracy, binary error, and cross validation error. \n",
    "\n",
    "To investigate this topic, we constructed a multinomial logistic model that can predict Air Quality Index category. We chose this model because logistic regression is preferable for the prediction of categorical variables (such as Air Quality Index category). We believe that income and Air Quality Index are negataively correlated and so the features we used to assemble this model include county income, county income rank within California, and mean ozone concentration in the year 2020. We chose the first two features because they are indicative of average socioeconimic status of various counties across California, and the last feature because we have previously seen a relationship between ozone and Air Quality Index in Part 1 of the project. To observe these features, we consulted an income external dataset. After loading in the data, we performed cleaning on the dataframe in which we filtered by state, and then merged with our pre-existing dataframes by County Name. \n",
    "\n",
    "    \n",
    "Our model had an accuracy of about 80%, a binary error of about 20%, and a cross validation error of about 23%. Our accuracy of about 80% indicates that our model is not very good because it is not better than 83% (1 - 1/6) which is the expected accuracy of a random baseline guesser with 6 classes. We would like to improve our accuracy by making some changes to our model in 11c to more accurately reflect our topic, including the modification of our features and the type of model used. "
   ]
  },
  {
   "cell_type": "code",
   "execution_count": 62,
   "id": "ded181c7-b2fe-4419-9d6a-e2c4a02d9b71",
   "metadata": {},
   "outputs": [
    {
     "data": {
      "image/png": "[encoded data removed]",
      "text/plain": [
       "<Figure size 1008x576 with 1 Axes>"
      ]
     },
     "metadata": {
      "needs_background": "light"
     },
     "output_type": "display_data"
    }
   ],
   "source": [
    "# Visualization 1\n",
    "\n",
    "normalized_income = (income_ozone['Income 2020 ($)']-min(income_ozone['Income 2020 ($)']))/(max(income_ozone['Income 2020 ($)'])-min(income_ozone['Income 2020 ($)']))\n",
    "rank_as_int = income_ozone['Income Rank in State'].astype('int') #first convert to int\n",
    "normalized_income_rank = (rank_as_int-min(rank_as_int))/(max(rank_as_int)-min(rank_as_int))\n",
    "\n",
    "plt.figure(figsize=(14, 8))\n",
    "plt.hist(normalized_income, alpha=0.5, label=\"Normalized Income\")\n",
    "plt.hist(normalized_income_rank, alpha=0.5, label=\"Normalized Income Rank\")\n",
    "plt.title('Normalized Distributions of 2020 County Income and Income Rank')\n",
    "plt.xlabel('Unit Interval')\n",
    "plt.ylabel('Count')\n",
    "plt.legend();"
   ]
  },
  {
   "attachments": {},
   "cell_type": "markdown",
   "id": "f3e974e6-dfc1-4097-9968-aca2211b31d6",
   "metadata": {},
   "source": [
    "**Plot 1 Takeaway:** Upon observing the distributions of normalized income and normalized income rank of 2020 California counties, we observe that the two distributions are similar because they are indicative of the same trend of county wealth. Given this, including both variables as features in our model will not improve its ability to predict AQI. Therefore, we will consider removing one of these variables from our features in question 11c. "
   ]
  },
  {
   "cell_type": "code",
   "execution_count": 63,
   "id": "eaed3c81-69da-48ad-9c91-3ac525750925",
   "metadata": {},
   "outputs": [
    {
     "data": {
      "text/html": [
       "<div>\n",
       "<style scoped>\n",
       "    .dataframe tbody tr th:only-of-type {\n",
       "        vertical-align: middle;\n",
       "    }\n",
       "\n",
       "    .dataframe tbody tr th {\n",
       "        vertical-align: top;\n",
       "    }\n",
       "\n",
       "    .dataframe thead th {\n",
       "        text-align: right;\n",
       "    }\n",
       "</style>\n",
       "<table border=\"1\" class=\"dataframe\">\n",
       "  <thead>\n",
       "    <tr style=\"text-align: right;\">\n",
       "      <th></th>\n",
       "      <th>County Name</th>\n",
       "      <th>2020 Unemployment Count</th>\n",
       "    </tr>\n",
       "  </thead>\n",
       "  <tbody>\n",
       "    <tr>\n",
       "      <th>199</th>\n",
       "      <td>Alameda</td>\n",
       "      <td>71396</td>\n",
       "    </tr>\n",
       "    <tr>\n",
       "      <th>200</th>\n",
       "      <td>Alpine</td>\n",
       "      <td>58</td>\n",
       "    </tr>\n",
       "    <tr>\n",
       "      <th>201</th>\n",
       "      <td>Amador</td>\n",
       "      <td>1317</td>\n",
       "    </tr>\n",
       "    <tr>\n",
       "      <th>202</th>\n",
       "      <td>Butte</td>\n",
       "      <td>8509</td>\n",
       "    </tr>\n",
       "    <tr>\n",
       "      <th>203</th>\n",
       "      <td>Calaveras</td>\n",
       "      <td>1619</td>\n",
       "    </tr>\n",
       "  </tbody>\n",
       "</table>\n",
       "</div>"
      ],
      "text/plain": [
       "    County Name  2020 Unemployment Count\n",
       "199     Alameda                    71396\n",
       "200      Alpine                       58\n",
       "201      Amador                     1317\n",
       "202       Butte                     8509\n",
       "203   Calaveras                     1619"
      ]
     },
     "execution_count": 63,
     "metadata": {},
     "output_type": "execute_result"
    }
   ],
   "source": [
    "# load and clean the unemployment table\n",
    "unemployment = pd.read_csv('data/Unemployment.csv')\n",
    "unemployment = unemployment.iloc[199:257, [2,-4]]\n",
    "unemployment = unemployment.rename(columns = {'Unnamed: 2': 'County Name', 'Unnamed: 88':'2020 Unemployment Count'})\n",
    "unemployment['County Name'] = unemployment['County Name'].str[:-11]\n",
    "unemployment['2020 Unemployment Count'] = unemployment['2020 Unemployment Count'].str.replace(',', '').astype('int')\n",
    "\n",
    "unemployment.head()"
   ]
  },
  {
   "cell_type": "code",
   "execution_count": 64,
   "id": "4ae57f43-cbc2-4ebd-abd0-86bd73f3ddb0",
   "metadata": {},
   "outputs": [
    {
     "data": {
      "text/html": [
       "<div>\n",
       "<style scoped>\n",
       "    .dataframe tbody tr th:only-of-type {\n",
       "        vertical-align: middle;\n",
       "    }\n",
       "\n",
       "    .dataframe tbody tr th {\n",
       "        vertical-align: top;\n",
       "    }\n",
       "\n",
       "    .dataframe thead th {\n",
       "        text-align: right;\n",
       "    }\n",
       "</style>\n",
       "<table border=\"1\" class=\"dataframe\">\n",
       "  <thead>\n",
       "    <tr style=\"text-align: right;\">\n",
       "      <th></th>\n",
       "      <th>County Name</th>\n",
       "      <th>Income 2020 ($)</th>\n",
       "      <th>Income Rank in State</th>\n",
       "      <th>Mean Ozone Concentration</th>\n",
       "      <th>AQI</th>\n",
       "      <th>Date Local</th>\n",
       "      <th>AQI Category</th>\n",
       "      <th>2020 Unemployment Count</th>\n",
       "    </tr>\n",
       "  </thead>\n",
       "  <tbody>\n",
       "    <tr>\n",
       "      <th>0</th>\n",
       "      <td>Alameda</td>\n",
       "      <td>87078</td>\n",
       "      <td>6</td>\n",
       "      <td>0.019471</td>\n",
       "      <td>23</td>\n",
       "      <td>2020-01-01</td>\n",
       "      <td>good</td>\n",
       "      <td>71396</td>\n",
       "    </tr>\n",
       "    <tr>\n",
       "      <th>1</th>\n",
       "      <td>Alameda</td>\n",
       "      <td>87078</td>\n",
       "      <td>6</td>\n",
       "      <td>0.007882</td>\n",
       "      <td>16</td>\n",
       "      <td>2020-01-02</td>\n",
       "      <td>good</td>\n",
       "      <td>71396</td>\n",
       "    </tr>\n",
       "    <tr>\n",
       "      <th>2</th>\n",
       "      <td>Alameda</td>\n",
       "      <td>87078</td>\n",
       "      <td>6</td>\n",
       "      <td>0.005706</td>\n",
       "      <td>12</td>\n",
       "      <td>2020-01-03</td>\n",
       "      <td>good</td>\n",
       "      <td>71396</td>\n",
       "    </tr>\n",
       "    <tr>\n",
       "      <th>3</th>\n",
       "      <td>Alameda</td>\n",
       "      <td>87078</td>\n",
       "      <td>6</td>\n",
       "      <td>0.012647</td>\n",
       "      <td>26</td>\n",
       "      <td>2020-01-04</td>\n",
       "      <td>good</td>\n",
       "      <td>71396</td>\n",
       "    </tr>\n",
       "    <tr>\n",
       "      <th>4</th>\n",
       "      <td>Alameda</td>\n",
       "      <td>87078</td>\n",
       "      <td>6</td>\n",
       "      <td>0.015059</td>\n",
       "      <td>29</td>\n",
       "      <td>2020-01-05</td>\n",
       "      <td>good</td>\n",
       "      <td>71396</td>\n",
       "    </tr>\n",
       "  </tbody>\n",
       "</table>\n",
       "</div>"
      ],
      "text/plain": [
       "  County Name  Income 2020 ($) Income Rank in State  Mean Ozone Concentration  \\\n",
       "0     Alameda            87078                    6                  0.019471   \n",
       "1     Alameda            87078                    6                  0.007882   \n",
       "2     Alameda            87078                    6                  0.005706   \n",
       "3     Alameda            87078                    6                  0.012647   \n",
       "4     Alameda            87078                    6                  0.015059   \n",
       "\n",
       "   AQI  Date Local AQI Category  2020 Unemployment Count  \n",
       "0   23  2020-01-01         good                    71396  \n",
       "1   16  2020-01-02         good                    71396  \n",
       "2   12  2020-01-03         good                    71396  \n",
       "3   26  2020-01-04         good                    71396  \n",
       "4   29  2020-01-05         good                    71396  "
      ]
     },
     "execution_count": 64,
     "metadata": {},
     "output_type": "execute_result"
    }
   ],
   "source": [
    "# merge unemployment with income_ozone\n",
    "income_ozone_unemployment = pd.merge(income_ozone, unemployment, how='inner', on=['County Name']).drop_duplicates()\n",
    "income_ozone_unemployment.head()"
   ]
  },
  {
   "cell_type": "code",
   "execution_count": 65,
   "id": "b35fc252-4b35-4124-912b-02545ad835cb",
   "metadata": {},
   "outputs": [
    {
     "data": {
      "text/plain": [
       "<Figure size 1008x576 with 0 Axes>"
      ]
     },
     "metadata": {},
     "output_type": "display_data"
    },
    {
     "data": {
      "image/png": "[encoded data removed]",
      "text/plain": [
       "<Figure size 432x288 with 1 Axes>"
      ]
     },
     "metadata": {
      "needs_background": "light"
     },
     "output_type": "display_data"
    }
   ],
   "source": [
    "# Visualization 2\n",
    "\n",
    "plt.figure(figsize=(14, 8));\n",
    "income_ozone_unemployment.plot.scatter(x = 'Income 2020 ($)', y = '2020 Unemployment Count');\n",
    "\n",
    "plt.ylim([0, 150000]);\n",
    "plt.title('Relationship Between Income and Unemployment in 2020');\n",
    "plt.xlabel('Income 2020 ($)');\n",
    "plt.ylabel('2020 Unemployment Count');"
   ]
  },
  {
   "attachments": {},
   "cell_type": "markdown",
   "id": "e0dd49bc-ab3b-49b8-8eb0-1fde615420fc",
   "metadata": {},
   "source": [
    "**Plot 2 Takeaway:** This scatter plot shows there is a correlation between unemployment and income. Since income is a key feature in our model, and unemployment has an association with it, this scatter plot guided us to bring unemployment in as another feature to improve our model."
   ]
  },
  {
   "attachments": {},
   "cell_type": "markdown",
   "id": "6d4b2852",
   "metadata": {
    "deletable": false,
    "editable": false
   },
   "source": [
    "<!-- END QUESTION -->\n",
    "\n",
    "<!-- BEGIN QUESTION -->\n",
    "\n",
    "### Question 11c\n",
    "\n",
    "Improve your model from part 11a based on the improvements that you suggested in part 11b. This could be the addition of more features, performing additional transformations on your features, increasing/decreasing the complexity of the model itself, or really anything else. You have no limitation on the number of features you can use, but you are required to use at least **one external dataset** that you process and merge in yourself. \n",
    "\n",
    "<!--\n",
    "BEGIN QUESTION\n",
    "name: q11c\n",
    "points: 8\n",
    "manual: True\n",
    "-->"
   ]
  },
  {
   "cell_type": "code",
   "execution_count": 67,
   "id": "60a5bcb0",
   "metadata": {},
   "outputs": [],
   "source": [
    "#features: This should be a pd.DataFrame object that represents the design \n",
    "#matrix that will be fed in as input to your model. Each row represents a data \n",
    "#point and each column represents a feature. Essentially your  𝑋  matrix.\n",
    "\n",
    "features_11c = income_ozone_unemployment[['Income 2020 ($)', '2020 Unemployment Count', 'Mean Ozone Concentration']]\n",
    "\n",
    "#targets: This should be a numpy array that where each value corresponds to the \n",
    "#AQI value or AQI category for each of the data points in features. Essentially \n",
    "#your  𝑦  vector.\n",
    "\n",
    "targets_11c = income_ozone_unemployment['AQI']\n",
    "targets_cat_11c = income_ozone_unemployment['AQI Category']"
   ]
  },
  {
   "cell_type": "code",
   "execution_count": 68,
   "id": "c080e2ac-dcca-45bb-a7d0-53f79e3953d3",
   "metadata": {},
   "outputs": [
    {
     "data": {
      "text/plain": [
       "RandomForestClassifier()"
      ]
     },
     "execution_count": 68,
     "metadata": {},
     "output_type": "execute_result"
    }
   ],
   "source": [
    "from sklearn.ensemble import RandomForestClassifier\n",
    "\n",
    "def build_model_11c(features, targets):\n",
    "    '''This function should have two parameters: features that will be \n",
    "    used as input into your model as a pd.DataFrame object, and targets \n",
    "    should be a numpy array of AQI values OR AQI categories. It should \n",
    "    return a function or object that represents your model.'''\n",
    "    model = RandomForestClassifier()\n",
    "    model.fit(features, targets)\n",
    "    return model\n",
    "build_model_11c(features_11c, targets_cat_11c)"
   ]
  },
  {
   "cell_type": "code",
   "execution_count": 69,
   "id": "d1c5832d-590f-4b84-ad55-e4d0eec3f251",
   "metadata": {},
   "outputs": [
    {
     "data": {
      "text/plain": [
       "array(['good', 'good', 'good', ..., 'good', 'good', 'good'], dtype=object)"
      ]
     },
     "execution_count": 69,
     "metadata": {},
     "output_type": "execute_result"
    }
   ],
   "source": [
    "def predict_11c(model, features):\n",
    "    '''This function should have two parameters: model, the model \n",
    "    that you build from the previous function build_model, and features \n",
    "    that represent the design matrix for the test values that we want to \n",
    "    predict. It should return the AQI category (not a value) that the \n",
    "    model predicts for these inputs.'''\n",
    "    return model.predict(features)\n",
    "\n",
    "predict_11c(build_model_11c(features_11c, targets_cat_11c), features_11c)"
   ]
  },
  {
   "cell_type": "code",
   "execution_count": 70,
   "id": "f05b50e5-31ff-4489-ae45-6bc9ba077201",
   "metadata": {},
   "outputs": [
    {
     "name": "stdout",
     "output_type": "stream",
     "text": [
      "Binary Error:  0.14242019797575356\n",
      "CV Error:  0.00904120197651171\n"
     ]
    }
   ],
   "source": [
    "# Note: Your binary_error in question 10e should be < 0.3. The local autograder \n",
    "# has a mistake that it says that it should be < 30. I will update the autograder \n",
    "# shortly but make sure that it is less than this value. \n",
    "\n",
    "import sklearn.model_selection\n",
    "X_train_11c, X_test_11c, y_train_11c, y_test_11c = sklearn.model_selection.train_test_split(features_11c, targets_cat_11c, test_size=0.3, train_size=0.7)\n",
    "\n",
    "# should use validation set\n",
    "model_11c = build_model_11c(X_train_11c, y_train_11c)\n",
    "result_11c = predict_11c(model_11c, X_test_11c)\n",
    "bool_array = result_11c == y_test_11c\n",
    "accuracy_11c = np.sum(bool_array) / len(result_11c) #correctly predicted / total_rows\n",
    "\n",
    "binary_error_11c = 1 - accuracy_11c # 1 - accuracy\n",
    "print('Binary Error: ', binary_error_11c)\n",
    "\n",
    "# compute Cross Entropy Loss\n",
    "prob_results_11c = model.predict_proba(X_test_11c)\n",
    "cv_error_11c =  -1 * np.mean(np.apply_along_axis(np.log, 0, np.apply_along_axis(max, 1, prob_results_11c)))\n",
    "print('CV Error: ', cv_error_11c)"
   ]
  },
  {
   "attachments": {},
   "cell_type": "markdown",
   "id": "62956358",
   "metadata": {
    "deletable": false,
    "editable": false
   },
   "source": [
    "<!-- END QUESTION -->\n",
    "\n",
    "<!-- BEGIN QUESTION -->\n",
    "\n",
    "### Question 11d\n",
    "\n",
    "Compare and contrast your baseline model and (hopefully) improved model. Make sure to compare their validation errors. Were you able to successfully answer your research question and evaluate your hypothesis? Summarize in a few sentences the conclusions that you can draw from your model and predictions. The expected length of your response should be 8-10 sentences. \n",
    "\n",
    "<!--\n",
    "BEGIN QUESTION\n",
    "name: q11d\n",
    "points: 3\n",
    "manual: True\n",
    "-->"
   ]
  },
  {
   "attachments": {},
   "cell_type": "markdown",
   "id": "c541f7ef",
   "metadata": {},
   "source": [
    "In our baseline model, we used a logistic regression initially since we were trying to predict categorical values and see the relationship between income and AQI categories. The features we selected were income for the year 2020 in each county in California which is a continuous variable, ranking of counties by income which is discrete, and mean ozone concentration which is also continuous. We chose the income feature from an external dataset as it was most relevant to our hypothesis, while we decided on Ozone concentration based on a research paper where a relationship was suggested between Ozone and income. Training a binary classifier gave us an accuracy of around 80%, while the cross-validation error was about 22%. Our accuracy of about 80% means that the model can be improved because it is below 83% (1 - 1/6) which is the expected accuracy of a random baseline guesser with 6 classes. We used a cross-entropy loss function for the cross-validation error, which minimizes the distance between predicted and actual probability distributions.\n",
    "\n",
    "The first improvement we made was to change the model we used. Instead of logistic regression, we opted to use a Random Forest model. Random Forest Classifier performs better with more categorical data than numeric and logistic regression. Random selection in individual decision trees of random forest classification can capture more complex feature patterns to provide better accuracy. This improved the accuracy and reduced both binary classification error and cross-validation error. This improved the accuracy and reduced both binary classification error and cross-validation error.\n",
    "\n",
    "The second improvement we made is we dropped the feature which ranked counties by income since it was proportionally similar to what income was providing as seen in the histogram comparing normalized income and normalized income rank. In its place, we brought in an external dataset of the number of unemployed people. The number of unemployed people in a county is correlated with its income level as seen in the scatter plot and hence, was an interesting feature to include to improve our model.\n",
    "\n",
    "These two improvements increased our accuracy from around 80% to 85%. It reduced binary classification error from about 19% to 14% and cross-validation error from approximately 22% to around 1%, which is a significant improvement. \n",
    "\n",
    "The goal was to see whether low-income counties have worse AQIs compared to high-income counties. We were able to answer our research question successfully. It confirmed our hypothesis that California counties with lower personal income will have worse AQIS than counties with higher personal incomes, as demonstrated by our high model accuracy. This tells us that, indeed low-income communities are at a higher risk of facing the adverse effects of bad air quality since they are more likely to live in areas with worse AQI. There are various reasons why low-income communities are subject to bad AQI. One reason we have come across is that factories and power plants which emit much of the gasses that contribute to bad AQI are often located in low-income neighborhoods. The location of such factories and power plants results in low prices of housing. The other reasons behind low-income communities having bad AQI can be explored further.\n",
    "\n",
    "**Future Work**\n",
    "\n",
    "Before anything else, the reasons behind low-income communities having bad AQI should be explored further. This is related to the work we did in the sense that it will allow us to understand the reasoning behind the association of AQI and income. This will inform us of trends and patterns in the reasons behind the relationship between worsening AQI and low income. A flaw in the work we did was that it does not reveal whether certain communities are unfairly subject to bad AQI. As such, it can also be researched whether the explored reasons disproportionally affect certain communities more than others. This would allow us to see which communities within low-income areas are more affected by bad AQI and the reasons behind them. This can potentially allow us to predict better not only which communities are disproportionately impacted by bad air quality but also take measures to improve them."
   ]
  }
 ],
 "metadata": {
  "kernelspec": {
   "display_name": "Python 3 (ipykernel)",
   "language": "python",
   "name": "python3"
  },
  "language_info": {
   "codemirror_mode": {
    "name": "ipython",
    "version": 3
   },
   "file_extension": ".py",
   "mimetype": "text/x-python",
   "name": "python",
   "nbconvert_exporter": "python",
   "pygments_lexer": "ipython3",
   "version": "3.9.7"
  }
 },
 "nbformat": 4,
 "nbformat_minor": 5
}
